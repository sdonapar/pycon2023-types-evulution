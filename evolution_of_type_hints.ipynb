{
 "cells": [
  {
   "cell_type": "markdown",
   "metadata": {},
   "source": [
    "## Evolution of Type hints in Python"
   ]
  },
  {
   "cell_type": "markdown",
   "metadata": {},
   "source": [
    "LinkedIn: [Sasidhar Donaparthi](https://www.linkedin.com/in/sasidonaparthi/)\n",
    "\n",
    "Twitter Handle: [sdonapar](https://twitter.com/sdonapar)\n",
    "\n",
    "Github: [sdonapar](https://github.com/sdonapar)"
   ]
  },
  {
   "cell_type": "markdown",
   "metadata": {},
   "source": [
    "### Function Annotations ( PEP 3107)"
   ]
  },
  {
   "cell_type": "markdown",
   "metadata": {},
   "source": [
    "This PEP aims to provide a single, standard way of specifying this information, reducing the confusion caused by the wide variation in mechanism and syntax that has existed until this point.\n",
    "\n",
    "1. Function annotations, both for parameters and return values, are completely optional.\n",
    "2. Function annotations are nothing more than a way of associating arbitrary Python expressions with various parts of a function at compile-time.\n",
    "\n",
    "By itself, Python does not attach any **particular meaning or significance to annotations**. Left to its own, Python simply makes these expressions available as described in **Accessing Function Annotations below.**"
   ]
  },
  {
   "cell_type": "code",
   "execution_count": 7,
   "metadata": {},
   "outputs": [],
   "source": [
    "def foo(a,b):\n",
    "    c = a + b\n",
    "    return c"
   ]
  },
  {
   "cell_type": "code",
   "execution_count": 8,
   "metadata": {},
   "outputs": [
    {
     "data": {
      "text/plain": [
       "{}"
      ]
     },
     "execution_count": 8,
     "metadata": {},
     "output_type": "execute_result"
    }
   ],
   "source": [
    "foo.__annotations__"
   ]
  },
  {
   "cell_type": "code",
   "execution_count": 9,
   "metadata": {},
   "outputs": [],
   "source": [
    "def bar(a:int, b:int = 0) -> int:\n",
    "    c = a + b\n",
    "    return c"
   ]
  },
  {
   "cell_type": "code",
   "execution_count": 10,
   "metadata": {},
   "outputs": [
    {
     "data": {
      "text/plain": [
       "{'a': int, 'b': int, 'return': int}"
      ]
     },
     "execution_count": 10,
     "metadata": {},
     "output_type": "execute_result"
    }
   ],
   "source": [
    "bar.__annotations__"
   ]
  },
  {
   "cell_type": "markdown",
   "metadata": {},
   "source": [
    "### Type Checkers\n",
    "\n",
    "[Mypy](https://mypy-lang.org/) is an optional static type checker for Python that aims to combine the benefits of dynamic (or \"duck\") typing and static typing. Mypy combines the expressive power and convenience of Python with a powerful type system and compile-time type checking. Mypy type checks standard Python programs; run them using any Python VM with basically no runtime overhead.\n",
    "\n",
    "Migrate existing code to static typing, a function at a time. You can freely mix static and dynamic typing within a program, within a module or within an expression. No need to give up dynamic typing — use static typing when it makes sense. Often just adding function signatures gives you statically typed code. Mypy can infer the types of other variables.\n",
    "\n",
    "```pip install mypy```"
   ]
  },
  {
   "cell_type": "markdown",
   "metadata": {},
   "source": [
    "[Pydantic](https://docs.pydantic.dev/latest/) is the most widely used data validation library for Python.\n",
    "\n",
    "Fast and extensible, Pydantic plays nicely with your linters/IDE/brain. Define how data should be in pure, canonical Python 3.7+; validate it with Pydantic.\n",
    "\n",
    "Around 8,000 packages on PyPI use Pydantic, including massively popular libraries like \n",
    "* [FastAPI](https://fastapi.tiangolo.com/)\n",
    "* [huggingface](https://huggingface.co/)\n",
    "* [Django Ninja](https://django-ninja.rest-framework.com/)\n",
    "* [SQLModel](https://sqlmodel.tiangolo.com/)\n",
    "* [LangChain](https://python.langchain.com/docs/get_started/introduction.html)"
   ]
  },
  {
   "cell_type": "markdown",
   "metadata": {},
   "source": [
    "### Why Type hints?\n",
    "\n",
    "* **Help in building robust and stable programs - catch certains errors**\n",
    "* **Help create documentation**\n",
    "* **Improve IDEs and linters - like mypy and pydantic**\n",
    "* **Helps to build and maintain a cleaner architecture**\n",
    "\n",
    "Reference : [Pros and Cons of Type Hints](https://realpython.com/lessons/pros-and-cons-type-hints/)"
   ]
  },
  {
   "cell_type": "markdown",
   "metadata": {},
   "source": [
    "### typing -- Support of type hints"
   ]
  },
  {
   "cell_type": "markdown",
   "metadata": {},
   "source": [
    "Introduced since Python 3.5, Python’s typing module attempts to provide a way of hinting types to help static type checkers and linters accurately predict errors.\n"
   ]
  },
  {
   "cell_type": "markdown",
   "metadata": {},
   "source": [
    "<img src=\"./images/typing_module_pypi.png\" alt=\"typing-module\" width=\"400\"/>"
   ]
  },
  {
   "cell_type": "markdown",
   "metadata": {},
   "source": []
  },
  {
   "cell_type": "markdown",
   "metadata": {},
   "source": []
  }
 ],
 "metadata": {
  "kernelspec": {
   "display_name": "pycon2023",
   "language": "python",
   "name": "python3"
  },
  "language_info": {
   "codemirror_mode": {
    "name": "ipython",
    "version": 3
   },
   "file_extension": ".py",
   "mimetype": "text/x-python",
   "name": "python",
   "nbconvert_exporter": "python",
   "pygments_lexer": "ipython3",
   "version": "3.11.4"
  },
  "orig_nbformat": 4
 },
 "nbformat": 4,
 "nbformat_minor": 2
}
