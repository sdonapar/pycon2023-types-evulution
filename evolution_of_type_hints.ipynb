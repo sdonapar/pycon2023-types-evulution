{
 "cells": [
  {
   "cell_type": "markdown",
   "metadata": {},
   "source": [
    "## Evolution of Type hints in Python"
   ]
  },
  {
   "cell_type": "markdown",
   "metadata": {},
   "source": [
    "LinkedIn: [Sasidhar Donaparthi](https://www.linkedin.com/in/sasidonaparthi/)\n",
    "\n",
    "Twitter Handle: [sdonapar](https://twitter.com/sdonapar)\n",
    "\n",
    "Github: [sdonapar](https://github.com/sdonapar)"
   ]
  },
  {
   "cell_type": "markdown",
   "metadata": {},
   "source": [
    "### Python is dynamically typed language"
   ]
  },
  {
   "cell_type": "markdown",
   "metadata": {},
   "source": [
    "Every programming language has a system of checking that values have been assigned their correct types, which is known as type checking\n",
    "\n",
    "<img src=\"./images/static_vs_dynamic_typing.jpg\" alt=\"typing-module\" width=\"600\"/>"
   ]
  },
  {
   "cell_type": "markdown",
   "metadata": {},
   "source": [
    "### Let's look at how the type hints are evolved in various versions of Python"
   ]
  },
  {
   "cell_type": "markdown",
   "metadata": {},
   "source": [
    "<img src=\"./images/peps_by_python.jpg\" alt=\"typing-module\" width=\"1000\"/>"
   ]
  },
  {
   "cell_type": "markdown",
   "metadata": {},
   "source": [
    "#### Why Type hints?\n",
    "\n",
    "* **Help in building robust and stable programs - catch certains errors**\n",
    "* **Help create documentation**\n",
    "* **Improve IDEs and linters - like mypy and pydantic**\n",
    "* **Helps to build and maintain a cleaner architecture**\n",
    "\n",
    "Reference : [Pros and Cons of Type Hints](https://realpython.com/lessons/pros-and-cons-type-hints/)"
   ]
  },
  {
   "cell_type": "markdown",
   "metadata": {},
   "source": [
    "#### Type Checkers\n",
    "\n",
    "[Mypy](https://mypy-lang.org/) is an optional static type checker for Python that aims to combine the benefits of dynamic (or \"duck\") typing and static typing.\\\n",
    "Mypy combines the expressive power and convenience of Python with a powerful type system and compile-time type checking.\\\n",
    "Mypy type checks standard Python programs; run them using any Python VM with basically no runtime overhead.\n",
    "\n",
    "Migrate existing code to static typing, a function at a time.\\\n",
    "You can freely mix static and dynamic typing within a program, within a module or within an expression.\\\n",
    "No need to give up dynamic typing — use static typing when it makes sense.\\\n",
    "Often just adding function signatures gives you statically typed code. Mypy can infer the types of other variables.\n",
    "\n",
    "```pip install mypy```"
   ]
  },
  {
   "cell_type": "markdown",
   "metadata": {},
   "source": [
    "[Pydantic](https://docs.pydantic.dev/latest/) is the most widely used data validation library for Python.\n",
    "\n",
    "Fast and extensible, Pydantic plays nicely with linters/IDEs. Define how data should be in pure, canonical Python 3.7+; validate it with Pydantic.\n",
    "\n",
    "Around 8,000 packages on PyPI use Pydantic, including massively popular libraries like \n",
    "* [FastAPI](https://fastapi.tiangolo.com/)\n",
    "* [huggingface](https://huggingface.co/)\n",
    "* [Django Ninja](https://django-ninja.rest-framework.com/)\n",
    "* [SQLModel](https://sqlmodel.tiangolo.com/)\n",
    "* [LangChain](https://python.langchain.com/docs/get_started/introduction.html)"
   ]
  },
  {
   "cell_type": "markdown",
   "metadata": {},
   "source": [
    "### [typing](https://docs.python.org/3/library/typing.html) -- Support of type hints"
   ]
  },
  {
   "cell_type": "markdown",
   "metadata": {},
   "source": [
    "Introduced since Python 3.5,\\\n",
    "Python’s typing module attempts to provide a way of hinting types to help static type checkers and linters accurately predict errors."
   ]
  },
  {
   "cell_type": "markdown",
   "metadata": {},
   "source": [
    "<img src=\"./images/typing_module_pypi.png\" alt=\"typing-module\" width=\"800\"/>"
   ]
  },
  {
   "cell_type": "markdown",
   "metadata": {},
   "source": [
    "#### Supports following\n",
    "\n",
    "|General   |Special Typing Primitives|Other Special directives|Functions and Decorators|Introspection Helpers|\n",
    "|----------|-------------------------|------------------------|------------------------|---------------------|\n",
    "|TypeAlias |Any                      |NamedTuple              |cast                    |get_type_hints       |\n",
    "|NewType   |AnyStr                   |Protocol                |assert_type             |get_origin           |\n",
    "|Callable  |LiteralString            |TypeDict                |assert_never            |get_args             |\n",
    "|TypeVar   |Never                    |                        |reveal_type             |is_typeddict         |\n",
    "|type      |NoReturn                 |                        |dataclass_transform     |ForwardRef           |\n",
    "|Generic   |Self                     |                        |overload                |                     |\n",
    "|Mapping   |Union                    |                        |get_overloads           |                     |\n",
    "|Sequence  |Optional                 |                        |clear_overloads         |                     |\n",
    "|          |Concatenate              |                        |final                   |                     |\n",
    "|          |Literal                  |                        |no_type_check           |                     |\n",
    "|          |ClassVar                 |                        |type_check_only         |                     |\n",
    "|          |Final                    |                        |                        |                     |\n",
    "|          |Required                 |                        |                        |                     |\n",
    "|          |NotRequired              |                        |                        |                     |\n",
    "|          |Annotated                |                        |                        |                     |\n",
    "|          |TypeGuard                |                        |                        |                     |\n",
    "|          |Unpack                   |                        |                        |                     |\n",
    "|          |TypeVarTuple             |                        |                        |                     |\n",
    "|          |ParamSpec                |                        |                        |                     |\n"
   ]
  },
  {
   "cell_type": "markdown",
   "metadata": {},
   "source": [
    "### Python 3.0 - Function Annotations ( PEP 3107)"
   ]
  },
  {
   "cell_type": "markdown",
   "metadata": {},
   "source": [
    "This PEP aims to provide a single, standard way of specifying this information, reducing the confusion caused by the wide variation in mechanism and syntax that has existed until this point.\n",
    "\n",
    "1. Function annotations, both for parameters and return values, are completely **optional.**\n",
    "2. Function annotations are nothing more than a way of associating **arbitrary Python expressions** with various parts of a function at compile-time.\n",
    "\n",
    "By itself, Python does not attach any **particular meaning or significance to annotations**. Left to its own, Python simply makes these expressions available as described in **Accessing Function Annotations below.**"
   ]
  },
  {
   "cell_type": "code",
   "execution_count": 1,
   "metadata": {},
   "outputs": [],
   "source": [
    "def foo(a,b):\n",
    "    c = a + b\n",
    "    return c"
   ]
  },
  {
   "cell_type": "code",
   "execution_count": 2,
   "metadata": {},
   "outputs": [
    {
     "data": {
      "text/plain": [
       "{}"
      ]
     },
     "execution_count": 2,
     "metadata": {},
     "output_type": "execute_result"
    }
   ],
   "source": [
    "foo.__annotations__"
   ]
  },
  {
   "cell_type": "code",
   "execution_count": 3,
   "metadata": {},
   "outputs": [],
   "source": [
    "def bar(a:int, b:int = 0) -> int:\n",
    "    c = a + b\n",
    "    return c"
   ]
  },
  {
   "cell_type": "code",
   "execution_count": 4,
   "metadata": {},
   "outputs": [
    {
     "data": {
      "text/plain": [
       "{'a': int, 'b': int, 'return': int}"
      ]
     },
     "execution_count": 4,
     "metadata": {},
     "output_type": "execute_result"
    }
   ],
   "source": [
    "bar.__annotations__"
   ]
  },
  {
   "cell_type": "code",
   "execution_count": 5,
   "metadata": {},
   "outputs": [],
   "source": [
    "from typing import get_type_hints"
   ]
  },
  {
   "cell_type": "code",
   "execution_count": 6,
   "metadata": {},
   "outputs": [
    {
     "data": {
      "text/plain": [
       "{'a': int, 'b': int, 'return': int}"
      ]
     },
     "execution_count": 6,
     "metadata": {},
     "output_type": "execute_result"
    }
   ],
   "source": [
    "get_type_hints(bar)"
   ]
  },
  {
   "cell_type": "markdown",
   "metadata": {},
   "source": [
    "### Python 3.5 - Syntax for Variable Annotations ( PEP 526)"
   ]
  },
  {
   "cell_type": "markdown",
   "metadata": {},
   "source": [
    "* PEP 484 introduced type hints, a.k.a. type annotations. \n",
    "* While its main focus was function annotations, it also introduced the notion of type comments to annotate variables:"
   ]
  },
  {
   "cell_type": "code",
   "execution_count": 7,
   "metadata": {},
   "outputs": [],
   "source": [
    "from datetime import datetime\n",
    "\n",
    "conf_name = \"Pycon India 2023\" # type: str\n",
    "conf_date = datetime.strptime(\"30-Sep-2023\",'%d-%b-%Y') # type: datetime\n",
    "conf_location = \"Hyderabad\" # type: str\n",
    "conf_price = 1500 # type: int\n",
    "\n",
    "class Starship:\n",
    "    # 'stats' is a class variable\n",
    "    stats = {}  # type: dict[str, int]"
   ]
  },
  {
   "cell_type": "markdown",
   "metadata": {},
   "source": [
    "This PEP 526 aims at adding syntax to Python for annotating the types of variables (including class variables and instance variables)\\\n",
    "instead of expressing them through comments:"
   ]
  },
  {
   "cell_type": "code",
   "execution_count": 97,
   "metadata": {},
   "outputs": [],
   "source": [
    "# these parallel tyes are deprciated and will be removed in future versions of Python\n",
    "\n",
    "from typing import List, Dict, Tuple, Set "
   ]
  },
  {
   "cell_type": "markdown",
   "metadata": {},
   "source": [
    "deprecated aliases to pre-existing standard library classes.\\\n",
    "These were originally included in the typing module in order to support parameterizing these generic classes using [].\\\n",
    "However, the aliases became redundant in Python 3.9 when the corresponding pre-existing classes were enhanced to support [] (see PEP 585)."
   ]
  },
  {
   "cell_type": "code",
   "execution_count": 9,
   "metadata": {},
   "outputs": [],
   "source": [
    "from typing import Any, AnyStr\n",
    "\n",
    "name : str\n",
    "department : str = \"Accounts\"\n",
    "primes: list[int] = [1,3,5,7]\n",
    "vector: list[float] = [1.0,2.0,3.0,4.0] \n",
    "point : tuple[float,float] = (2.5,8.5)\n",
    "role : set[str] = {'Data Scientist','Data Engineer','Prompt Engineer'}\n",
    "\n",
    "speaker_name: str = \"Sasidhar\"\n",
    "duration: int = 30\n",
    "interests: set[str] = {\"Python\",\"Data Science\",\"LLM\"}\n",
    "contacts : dict[str,str] = {'phone':'xxxxxxx','twitter':'sdonapar','github':'sdonapar'}\n",
    "agenda : list[tuple[str,int]] = [('Function Annotations',2),('Variable Annotations',3)]\n",
    "attending_conference: bool = True\n",
    "comments: AnyStr\n",
    "feedback: Any"
   ]
  },
  {
   "cell_type": "code",
   "execution_count": 10,
   "metadata": {},
   "outputs": [],
   "source": [
    "from typing import ClassVar\n",
    "\n",
    "class Starship:\n",
    "    stats : ClassVar[dict[str,int]]\n",
    "    def __init__(self, name:str,value:int):\n",
    "        self.name = name\n",
    "        self.value = value"
   ]
  },
  {
   "cell_type": "markdown",
   "metadata": {},
   "source": [
    "### Python 3.5 - Type Hints ( PEP 484 )"
   ]
  },
  {
   "cell_type": "markdown",
   "metadata": {},
   "source": [
    "This PEP aims to provide a standard syntax for type annotations, opening up Python code \n",
    "* to easier static analysis and refactoring.\n",
    "* potential runtime type checking.\n",
    "* and (perhaps, in some contexts) code generation utilizing type information.\n",
    "\n",
    "Of these goals, **static analysis** is the most important.\\\n",
    "This includes support for off-line type checkers such as mypy, as well as providing a standard notation that can be used by IDEs for code completion and refactoring"
   ]
  },
  {
   "cell_type": "markdown",
   "metadata": {},
   "source": [
    "It should also be emphasized that **Python will remain a dynamically typed language, and the authors have no desire to ever make type hints mandatory, even by convention.**"
   ]
  },
  {
   "cell_type": "markdown",
   "metadata": {},
   "source": [
    "* Any function **without annotations** should be treated as having the most general type possible, or ignored, by any type checker.\n",
    "* Functions with the **@no_type_check** decorator should be treated as having no annotations.\n",
    "* It is **recommended** but not required that checked functions have annotations for all arguments and the return type.\n",
    "* For a checked function, the **default annotation** for arguments and for the return type is Any\n",
    "\n",
    "* An **exception** is the first argument of instance and class methods."
   ]
  },
  {
   "cell_type": "markdown",
   "metadata": {},
   "source": [
    "Type hints may be\n",
    "* built-in classes (including those defined in standard library or third-party extension modules)\n",
    "* abstract base classes (ABC)\n",
    "* types available in the types module\n",
    "* user-defined classes (including those defined in the standard library or third-party modules)"
   ]
  },
  {
   "cell_type": "code",
   "execution_count": 11,
   "metadata": {},
   "outputs": [],
   "source": [
    "from typing import no_type_check"
   ]
  },
  {
   "cell_type": "code",
   "execution_count": 12,
   "metadata": {},
   "outputs": [],
   "source": [
    "@no_type_check\n",
    "def test_function1(a,b,c):\n",
    "    return a+b+c\n",
    "\n",
    "def test_function2(a:int,b:int,c:int)->int:\n",
    "    return a+b+c"
   ]
  },
  {
   "cell_type": "code",
   "execution_count": 13,
   "metadata": {},
   "outputs": [
    {
     "data": {
      "text/plain": [
       "{}"
      ]
     },
     "execution_count": 13,
     "metadata": {},
     "output_type": "execute_result"
    }
   ],
   "source": [
    "test_function1.__annotations__"
   ]
  },
  {
   "cell_type": "code",
   "execution_count": 14,
   "metadata": {},
   "outputs": [
    {
     "data": {
      "text/plain": [
       "{'a': int, 'b': int, 'c': int, 'return': int}"
      ]
     },
     "execution_count": 14,
     "metadata": {},
     "output_type": "execute_result"
    }
   ],
   "source": [
    "test_function2.__annotations__"
   ]
  },
  {
   "cell_type": "markdown",
   "metadata": {},
   "source": [
    "#### Type aliases"
   ]
  },
  {
   "cell_type": "code",
   "execution_count": 19,
   "metadata": {},
   "outputs": [],
   "source": [
    "Url = str\n",
    "Count = int\n",
    "Result = list\n",
    "\n",
    "def retry1(url: Url, retry_count: Count) -> Result:\n",
    "    pass"
   ]
  },
  {
   "cell_type": "code",
   "execution_count": 16,
   "metadata": {},
   "outputs": [
    {
     "data": {
      "text/plain": [
       "{'url': str, 'retry_count': int, 'return': list}"
      ]
     },
     "execution_count": 16,
     "metadata": {},
     "output_type": "execute_result"
    }
   ],
   "source": [
    "retry1.__annotations__"
   ]
  },
  {
   "cell_type": "code",
   "execution_count": 98,
   "metadata": {},
   "outputs": [],
   "source": [
    "### Explict Type Alias PEP 613\n",
    "\n",
    "from typing import TypeAlias\n",
    "Url: TypeAlias = str\n",
    "Count: TypeAlias = int\n",
    "Result: TypeAlias = list\n",
    "\n",
    "def retry2(url: Url, retry_count: Count) -> Result:\n",
    "    pass"
   ]
  },
  {
   "cell_type": "code",
   "execution_count": 99,
   "metadata": {},
   "outputs": [
    {
     "data": {
      "text/plain": [
       "{'url': str, 'retry_count': int, 'return': list}"
      ]
     },
     "execution_count": 99,
     "metadata": {},
     "output_type": "execute_result"
    }
   ],
   "source": [
    "retry2.__annotations__"
   ]
  },
  {
   "cell_type": "markdown",
   "metadata": {},
   "source": [
    "#### Generics"
   ]
  },
  {
   "cell_type": "markdown",
   "metadata": {},
   "source": [
    "Generic (n.) – a type that can be **parameterized**, typically a container.\\\n",
    "Also known as a parametric type or a **generic type.**\\\n",
    "For example:**dict.**"
   ]
  },
  {
   "cell_type": "markdown",
   "metadata": {},
   "source": [
    "parameterized generic – a specific instance of a generic with the expected types for container elements provided.\\\n",
    "Also known as a **parameterized type.**\\\n",
    "For example: **dict[str, int].**"
   ]
  },
  {
   "cell_type": "markdown",
   "metadata": {},
   "source": [
    "Generics can be parameterized by using a new factory available in typing called **TypeVar**"
   ]
  },
  {
   "cell_type": "code",
   "execution_count": 103,
   "metadata": {},
   "outputs": [],
   "source": [
    "from typing import TypeVar, Sequence, Mapping\n",
    "\n",
    "T = TypeVar('T')      # Declare type variable\n",
    "\n",
    "def first(mylist: Sequence[T]) -> T:   # Generic function\n",
    "    return mylist[0]\n",
    "\n",
    "KeyType = TypeVar(\"KeyType\",str,bytes) # Declare type variable\n",
    "ValueType = TypeVar(\"ValueType\",int, float) # Declare type variable\n",
    "\n",
    "def get_value(key:KeyType,my_dict:Mapping[KeyType,ValueType])->ValueType:\n",
    "    value = my_dict.get(key,0)\n",
    "    return value\n",
    "\n",
    "def concat(str1: KeyType,str2:KeyType) -> KeyType:\n",
    "    return str1 + str2"
   ]
  },
  {
   "cell_type": "code",
   "execution_count": 104,
   "metadata": {},
   "outputs": [
    {
     "data": {
      "text/plain": [
       "{'key': ~KeyType,\n",
       " 'my_dict': typing.Mapping[~KeyType, ~ValueType],\n",
       " 'return': ~ValueType}"
      ]
     },
     "execution_count": 104,
     "metadata": {},
     "output_type": "execute_result"
    }
   ],
   "source": [
    "get_value.__annotations__"
   ]
  },
  {
   "cell_type": "code",
   "execution_count": 105,
   "metadata": {},
   "outputs": [
    {
     "name": "stdout",
     "output_type": "stream",
     "text": [
      "[Employee(name:Emp2), Employee(name:Emp3), Employee(name:Emp1)]\n",
      "[Employee(name:Emp2), Employee(name:Emp1), 'Emp3']\n"
     ]
    }
   ],
   "source": [
    "from typing import TypeVar, Mapping, Sequence\n",
    "\n",
    "class Employee:\n",
    "    def __init__(self,name:str):\n",
    "        self.name = name\n",
    "\n",
    "    def __repr__(self):\n",
    "        return f\"Employee(name:{self.name})\"\n",
    "    \n",
    "class Manager(Employee):\n",
    "    pass\n",
    "\n",
    "class Director(Employee):\n",
    "    pass\n",
    "\n",
    "EmployeeType = TypeVar(\"EmployeeType\",Employee,Manager) # Generic Constrained\n",
    "# EmployeeType = TypeVar(\"EmployeeType\",bound=Employee) # Generic bounded\n",
    "# EmployeeType = TypeVar(\"EmployeeType\") # Generic\n",
    "\n",
    "\n",
    "def notify_by_email(\n",
    "        employees: set[EmployeeType], \n",
    "        overrides: Mapping[str, str]\n",
    "    ) -> Sequence[EmployeeType]:\n",
    "    return list(employees)\n",
    "\n",
    "employee_1 = Employee(\"Emp1\")\n",
    "employee_2 = Employee(\"Emp2\")\n",
    "employee_3 = Employee(\"Emp3\")\n",
    "\n",
    "output = notify_by_email({employee_1,employee_2,employee_3},{\"test\":\"test\"}) # this is valid\n",
    "print(output)\n",
    "\n",
    "output = notify_by_email({employee_1,employee_2,\"Emp3\"},{\"test\":\"test\"}) # this in not valid\n",
    "print(output)"
   ]
  },
  {
   "cell_type": "code",
   "execution_count": 102,
   "metadata": {},
   "outputs": [
    {
     "data": {
      "text/plain": [
       "{'employees': set[~EmployeeType],\n",
       " 'overrides': typing.Mapping[str, str],\n",
       " 'return': typing.Sequence[~EmployeeType]}"
      ]
     },
     "execution_count": 102,
     "metadata": {},
     "output_type": "execute_result"
    }
   ],
   "source": [
    "notify_by_email.__annotations__"
   ]
  },
  {
   "cell_type": "markdown",
   "metadata": {},
   "source": [
    "#### Callable"
   ]
  },
  {
   "cell_type": "markdown",
   "metadata": {},
   "source": [
    "**Ellipsis**\n",
    "\n",
    "Ellipsis is a Python Object. It has no Methods.\\\n",
    "It is a singleton Object i.e. , provides easy access to single instances.\n",
    "\n",
    "Various Use Cases of Ellipsis (…):\n",
    "\n",
    "* Default Secondary Prompt in Python interpreter.\n",
    "* Accessing and slicing multidimensional Arrays/NumPy indexing.\n",
    "* In type hinting.\n",
    "* Used as Pass Statement inside Functions."
   ]
  },
  {
   "cell_type": "code",
   "execution_count": 109,
   "metadata": {},
   "outputs": [],
   "source": [
    "from typing import Callable\n",
    "\n",
    "def concat(x: str, y: str) -> str:\n",
    "    return x + y\n",
    "\n",
    "myfunc: Callable[..., str] = concat"
   ]
  },
  {
   "cell_type": "code",
   "execution_count": 111,
   "metadata": {},
   "outputs": [
    {
     "data": {
      "text/plain": [
       "{'x': str, 'y': str, 'return': str}"
      ]
     },
     "execution_count": 111,
     "metadata": {},
     "output_type": "execute_result"
    }
   ],
   "source": [
    "myfunc.__annotations__"
   ]
  },
  {
   "cell_type": "code",
   "execution_count": 110,
   "metadata": {},
   "outputs": [],
   "source": [
    "from typing import Callable\n",
    "# from collections.abc import Callable   # Python 3.9\n",
    "\n",
    "def feeder(get_next_item: Callable[[], str]) -> None:...\n",
    "\n",
    "def async_query(on_success: Callable[[int], None],\n",
    "                on_error: Callable[[int, Exception], None]) -> None:...\n",
    "\n",
    "def partial(func: Callable[..., str], *args) -> Callable[..., str]:..."
   ]
  },
  {
   "cell_type": "code",
   "execution_count": 38,
   "metadata": {},
   "outputs": [
    {
     "data": {
      "text/plain": [
       "{'get_next_item': typing.Callable[[], str], 'return': None}"
      ]
     },
     "execution_count": 38,
     "metadata": {},
     "output_type": "execute_result"
    }
   ],
   "source": [
    "feeder.__annotations__"
   ]
  },
  {
   "cell_type": "code",
   "execution_count": 39,
   "metadata": {},
   "outputs": [
    {
     "data": {
      "text/plain": [
       "{'on_success': typing.Callable[[int], NoneType],\n",
       " 'on_error': typing.Callable[[int, Exception], NoneType],\n",
       " 'return': None}"
      ]
     },
     "execution_count": 39,
     "metadata": {},
     "output_type": "execute_result"
    }
   ],
   "source": [
    "async_query.__annotations__"
   ]
  },
  {
   "cell_type": "code",
   "execution_count": 40,
   "metadata": {},
   "outputs": [
    {
     "data": {
      "text/plain": [
       "{'func': typing.Callable[..., str], 'return': typing.Callable[..., str]}"
      ]
     },
     "execution_count": 40,
     "metadata": {},
     "output_type": "execute_result"
    }
   ],
   "source": [
    "partial.__annotations__"
   ]
  },
  {
   "cell_type": "markdown",
   "metadata": {},
   "source": [
    "#### Parameter Specification PEP 612"
   ]
  },
  {
   "cell_type": "markdown",
   "metadata": {},
   "source": [
    "A parameter specification variable is defined in a similar manner to how a normal type variable is defined with typing.TypeVar."
   ]
  },
  {
   "cell_type": "code",
   "execution_count": 107,
   "metadata": {},
   "outputs": [
    {
     "data": {
      "text/plain": [
       "(6.6, 16)"
      ]
     },
     "execution_count": 107,
     "metadata": {},
     "output_type": "execute_result"
    }
   ],
   "source": [
    "from threading import Lock\n",
    "from typing import Callable, Concatenate, ParamSpec, TypeVar\n",
    "\n",
    "P = ParamSpec('P')\n",
    "R = TypeVar('R')\n",
    "\n",
    "# Use this lock to ensure that only one thread is executing a function\n",
    "# at any time.\n",
    "my_lock = Lock()\n",
    "\n",
    "def with_lock(f: Callable[Concatenate[Lock, P], R]) -> Callable[P, R]:\n",
    "    '''A type-safe decorator which provides a lock.'''\n",
    "    def inner(*args: P.args, **kwargs: P.kwargs) -> R:\n",
    "        # Provide the lock as the first argument.\n",
    "        return f(my_lock, *args, **kwargs)\n",
    "    return inner\n",
    "\n",
    "NumType = TypeVar(\"NumType\",float,int)\n",
    "\n",
    "@with_lock\n",
    "def sum_threadsafe(lock: Lock, numbers: list[NumType]) -> NumType:\n",
    "    '''Add a list of numbers together in a thread-safe manner.'''\n",
    "    with lock:\n",
    "        return sum(numbers)\n",
    "\n",
    "# We don't need to pass in the lock ourselves thanks to the decorator.\n",
    "sum_float = sum_threadsafe([1.1, 2.2, 3.3])\n",
    "sum_int = sum_threadsafe([1, 2, 5,8])\n",
    "\n",
    "sum_float,sum_int"
   ]
  },
  {
   "cell_type": "code",
   "execution_count": 108,
   "metadata": {},
   "outputs": [
    {
     "data": {
      "text/plain": [
       "(typing.ParamSpecArgs, typing.ParamSpecKwargs)"
      ]
     },
     "execution_count": 108,
     "metadata": {},
     "output_type": "execute_result"
    }
   ],
   "source": [
    "type(P.args),type(P.kwargs)"
   ]
  },
  {
   "cell_type": "markdown",
   "metadata": {},
   "source": [
    "#### The type of class objects¶\n"
   ]
  },
  {
   "cell_type": "code",
   "execution_count": 43,
   "metadata": {},
   "outputs": [
    {
     "data": {
      "text/plain": [
       "Employee(name:Ivan )"
      ]
     },
     "execution_count": 43,
     "metadata": {},
     "output_type": "execute_result"
    }
   ],
   "source": [
    "class Employee:\n",
    "    def __init__(self,name):\n",
    "        self.name = name\n",
    "\n",
    "    def __repr__(self):\n",
    "        return f\"Employee(name:{self.name})\"\n",
    "\n",
    "class Accountant(Employee): ...\n",
    "class TeamLead(Employee): ...\n",
    "\n",
    "def make_new_employee(employee_class: type[Employee],name:str) -> Employee:\n",
    "    # ...\n",
    "    return employee_class(name=name)\n",
    "\n",
    "make_new_employee(Employee,\"Guido\")      # OK\n",
    "make_new_employee(Accountant,\"Lukasz\")   # Also OK: ``type[Accountant]`` is a subtype of ``type[Employee]``\n",
    "make_new_employee(TeamLead,\"Ivan \")  # Still fine\n",
    "\n",
    "# make_new_employee(Employee(\"Mark\"),\"Mark\")    # Error: expected ``type[Employee]`` but got ``Employee``\n",
    "# make_new_employee(int,\"Jukka\")       # Error: ``type[int]`` is not a subtype of ``type[Employee]``"
   ]
  },
  {
   "cell_type": "markdown",
   "metadata": {},
   "source": [
    "#### NewType"
   ]
  },
  {
   "cell_type": "markdown",
   "metadata": {},
   "source": [
    "Use the NewType helper to create distinct types:"
   ]
  },
  {
   "cell_type": "code",
   "execution_count": 113,
   "metadata": {},
   "outputs": [
    {
     "name": "stderr",
     "output_type": "stream",
     "text": [
      "Runtime type is 'int'\n"
     ]
    },
    {
     "data": {
      "text/plain": [
       "77754"
      ]
     },
     "execution_count": 113,
     "metadata": {},
     "output_type": "execute_result"
    }
   ],
   "source": [
    "from typing import NewType, reveal_type\n",
    "\n",
    "UserId = NewType('UserId', int)\n",
    "some_id = UserId(524313)\n",
    "\n",
    "output = UserId(23413) + UserId(54341)\n",
    "\n",
    "def get_user_name(user_id: UserId) -> str:\n",
    "    ...\n",
    "\n",
    "# passes type checking\n",
    "user_a = get_user_name(UserId(42351))\n",
    "\n",
    "# fails type checking; an int is not a UserId\n",
    "user_b = get_user_name(-1)\n",
    "\n",
    "reveal_type(output)"
   ]
  },
  {
   "cell_type": "code",
   "execution_count": 114,
   "metadata": {},
   "outputs": [],
   "source": [
    "# Fails at runtime and does not pass type checking\n",
    "# class AdminUserId(UserId): pass"
   ]
  },
  {
   "cell_type": "markdown",
   "metadata": {},
   "source": [
    "### User-defined generic types"
   ]
  },
  {
   "cell_type": "code",
   "execution_count": 47,
   "metadata": {},
   "outputs": [],
   "source": [
    "from typing import TypeVar, Generic\n",
    "from logging import Logger\n",
    "import logging\n",
    "\n",
    "T = TypeVar('T')\n",
    "\n",
    "class LoggedVar(Generic[T]):\n",
    "    def __init__(self, value: T, name: str, logger: Logger) -> None:\n",
    "        self.name = name\n",
    "        self.logger = logger\n",
    "        self.value = value\n",
    "\n",
    "    def set(self, new: T) -> None:\n",
    "        self.log('Set ' + repr(self.value))\n",
    "        self.value = new\n",
    "\n",
    "    def get(self) -> T:\n",
    "        self.log('Get ' + repr(self.value))\n",
    "        return self.value\n",
    "\n",
    "    def log(self, message: str) -> None:\n",
    "        self.logger.info('{}: {}'.format(self.name, message))"
   ]
  },
  {
   "cell_type": "code",
   "execution_count": 48,
   "metadata": {},
   "outputs": [],
   "source": [
    "mylogger = Logger(\"test\")\n",
    "formatter = logging.Formatter('%(message)s') \n",
    "\n",
    "ch = logging.StreamHandler()\n",
    "ch.setLevel(logging.INFO)\n",
    "ch.setFormatter(formatter)\n",
    "mylogger.addHandler(ch)\n"
   ]
  },
  {
   "cell_type": "code",
   "execution_count": 49,
   "metadata": {},
   "outputs": [],
   "source": [
    "x = LoggedVar(\"Run1\",\"Pycon2023\",mylogger)"
   ]
  },
  {
   "cell_type": "code",
   "execution_count": 50,
   "metadata": {},
   "outputs": [
    {
     "data": {
      "text/plain": [
       "{'value': ~T, 'name': str, 'logger': logging.Logger, 'return': None}"
      ]
     },
     "execution_count": 50,
     "metadata": {},
     "output_type": "execute_result"
    }
   ],
   "source": [
    "LoggedVar.__init__.__annotations__"
   ]
  },
  {
   "cell_type": "code",
   "execution_count": 58,
   "metadata": {},
   "outputs": [],
   "source": [
    "from typing import TypeVar, Generic, NoReturn\n",
    "\n",
    "T1 = TypeVar('T1')\n",
    "\n",
    "class Node(Generic[T1]):\n",
    "    x = None  # type: T1 # Instance attribute (see below)\n",
    "    def __init__(self, label: T1 = None) -> NoReturn:\n",
    "        ...\n",
    "\n",
    "x = Node('')  # Inferred type is Node[str]\n",
    "y = Node(0)   # Inferred type is Node[int]\n",
    "z = Node()    # Inferred type is Node[Any]\n",
    "a = Node()  # type: Node[int]\n",
    "b = Node()  # type: Node[str]"
   ]
  },
  {
   "cell_type": "code",
   "execution_count": 59,
   "metadata": {},
   "outputs": [],
   "source": [
    "p = Node[int]()\n",
    "q = Node[str]()\n",
    "\n",
    "r = Node[int]('')  # Error\n",
    "s = Node[str](0)   # Error"
   ]
  },
  {
   "cell_type": "code",
   "execution_count": 60,
   "metadata": {},
   "outputs": [
    {
     "data": {
      "text/plain": [
       "{'label': ~T1, 'return': typing.NoReturn}"
      ]
     },
     "execution_count": 60,
     "metadata": {},
     "output_type": "execute_result"
    }
   ],
   "source": [
    "Node.__init__.__annotations__"
   ]
  },
  {
   "cell_type": "markdown",
   "metadata": {},
   "source": [
    "### Literal Types PEP 586"
   ]
  },
  {
   "cell_type": "markdown",
   "metadata": {},
   "source": [
    "Literal types indicate that some expression has literally a specific value."
   ]
  },
  {
   "cell_type": "code",
   "execution_count": 62,
   "metadata": {},
   "outputs": [],
   "source": [
    "from typing import overload,Union, Literal, IO, Any\n",
    "# Note: this is a simplification of the true type signature.\n",
    "_PathType = Union[str, bytes, int]\n",
    "\n",
    "@overload\n",
    "def open(path: _PathType,\n",
    "         mode: Literal[\"r\", \"w\", \"a\", \"x\", \"r+\", \"w+\", \"a+\", \"x+\"],\n",
    "         ) -> IO[str]: ...\n",
    "\n",
    "@overload\n",
    "def open(path: _PathType,\n",
    "         mode: Literal[\"rb\", \"wb\", \"ab\", \"xb\", \"r+b\", \"w+b\", \"a+b\", \"x+b\"],\n",
    "         ) -> IO[bytes]: ...\n",
    "\n",
    "# Fallback overload for when the user isn't using literal types\n",
    "@overload\n",
    "def open(path: _PathType, mode: str) -> IO[Any]: ..."
   ]
  },
  {
   "cell_type": "code",
   "execution_count": 63,
   "metadata": {},
   "outputs": [],
   "source": [
    "count : Literal = 20\n",
    "department: Literal[\"Accounts\",\"IT\",\"HR\"]"
   ]
  },
  {
   "cell_type": "code",
   "execution_count": 64,
   "metadata": {},
   "outputs": [],
   "source": [
    "def my_function(x: Literal[1 + 2]) -> int:\n",
    "    return x * 3\n",
    "\n",
    "x: Literal = 3\n",
    "y: Literal[my_function] = my_function"
   ]
  },
  {
   "cell_type": "code",
   "execution_count": 65,
   "metadata": {},
   "outputs": [
    {
     "data": {
      "text/plain": [
       "{'x': typing.Literal[3], 'return': int}"
      ]
     },
     "execution_count": 65,
     "metadata": {},
     "output_type": "execute_result"
    }
   ],
   "source": [
    "my_function.__annotations__"
   ]
  },
  {
   "cell_type": "code",
   "execution_count": 67,
   "metadata": {},
   "outputs": [],
   "source": [
    "t: tuple[Literal[1], Literal[\"foo\"], Literal[\"bar\"]]"
   ]
  },
  {
   "cell_type": "code",
   "execution_count": 68,
   "metadata": {},
   "outputs": [
    {
     "data": {
      "text/plain": [
       "typing.Literal[{'a': 'b', 'c': 'd'}]"
      ]
     },
     "execution_count": 68,
     "metadata": {},
     "output_type": "execute_result"
    }
   ],
   "source": [
    "Literal[{\"a\": \"b\", \"c\": \"d\"}]"
   ]
  },
  {
   "cell_type": "markdown",
   "metadata": {},
   "source": [
    "### Adding a final qualifier to typing PEP 591"
   ]
  },
  {
   "cell_type": "markdown",
   "metadata": {},
   "source": [
    "This PEP proposes a “final” qualifier to be added to the typing module—in the form of a final decorator and\\\n",
    "a Final type annotation—to serve three related purposes:\n",
    "\n",
    "* Declaring that a method should not be overridden\n",
    "* Declaring that a class should not be subclassed\n",
    "* Declaring that a variable or attribute should not be reassigned"
   ]
  },
  {
   "cell_type": "code",
   "execution_count": 69,
   "metadata": {},
   "outputs": [],
   "source": [
    "from typing import final\n",
    "\n",
    "@final\n",
    "class Base:...\n",
    "\n",
    "class Derived(Base):..."
   ]
  },
  {
   "cell_type": "code",
   "execution_count": 70,
   "metadata": {},
   "outputs": [],
   "source": [
    "from typing import final, Final\n",
    "\n",
    "class Base:\n",
    "    @final\n",
    "    def foo(self) -> None:\n",
    "        ...\n",
    "\n",
    "class Derived(Base):\n",
    "    def foo(self) -> None:  # Error: Cannot override final attribute \"foo\"\n",
    "                            # (previously declared in base class \"Base\")\n",
    "        ..."
   ]
  },
  {
   "cell_type": "code",
   "execution_count": 72,
   "metadata": {},
   "outputs": [],
   "source": [
    "THRESHOLD : Final[int] = 25\n",
    "DEFAULT_VALUE: Final['str'] = 'Yes'"
   ]
  },
  {
   "cell_type": "code",
   "execution_count": 73,
   "metadata": {},
   "outputs": [],
   "source": [
    "from typing import Final\n",
    "\n",
    "RATE: Final = 3000\n",
    "\n",
    "class Base:\n",
    "    DEFAULT_ID: Final = 0\n",
    "\n",
    "RATE = 300  # Error: can't assign to final attribute\n",
    "Base.DEFAULT_ID = 1  # Error: can't override a final attribute"
   ]
  },
  {
   "cell_type": "code",
   "execution_count": 76,
   "metadata": {},
   "outputs": [],
   "source": [
    "class ImmutablePoint:\n",
    "    x: Final[int]\n",
    "    y: Final[int]  # Error: final attribute without an initializer\n",
    "\n",
    "    def __init__(self) -> None:\n",
    "        self.x = 1  # Good"
   ]
  },
  {
   "cell_type": "markdown",
   "metadata": {},
   "source": [
    "Type checkers should infer a final attribute that is initialized in a class body as being a class variable.\\\n",
    "Variables should not be annotated with both ClassVar and Final."
   ]
  },
  {
   "cell_type": "markdown",
   "metadata": {},
   "source": [
    "### Postponed Evaluation of Annotations PEP 563"
   ]
  },
  {
   "cell_type": "markdown",
   "metadata": {},
   "source": [
    "PEP 3107 added support for arbitrary annotations on parts of a function definition.\\\n",
    "Just like default values, annotations are evaluated at function definition time.\\\n",
    "This creates a number of issues for the type hinting use case:\n",
    "\n",
    "* forward references: when a type hint contains names that have not been defined yet, that definition needs to be expressed as a string literal;\n",
    "* type hints are executed at module import time, which is not computationally free.\n",
    "\n",
    "Postponing the evaluation of annotations solves both problems.\\\n",
    "NOTE: PEP 649 proposes an alternative solution to the above issues, putting this PEP in danger of being superseded. ( 3.13 Verson )"
   ]
  },
  {
   "cell_type": "code",
   "execution_count": 115,
   "metadata": {},
   "outputs": [
    {
     "ename": "NameError",
     "evalue": "name 'Tree' is not defined",
     "output_type": "error",
     "traceback": [
      "\u001b[0;31m---------------------------------------------------------------------------\u001b[0m",
      "\u001b[0;31mNameError\u001b[0m                                 Traceback (most recent call last)",
      "\u001b[1;32m/home/sasidhar/projects/pycon2023-types-evulution/evolution_of_type_hints.ipynb Cell 96\u001b[0m line \u001b[0;36m1\n\u001b[0;32m----> <a href='vscode-notebook-cell://wsl%2Bubuntu-20.04/home/sasidhar/projects/pycon2023-types-evulution/evolution_of_type_hints.ipynb#Y302sdnNjb2RlLXJlbW90ZQ%3D%3D?line=0'>1</a>\u001b[0m \u001b[39mclass\u001b[39;49;00m \u001b[39mTree\u001b[39;49;00m:\n\u001b[1;32m      <a href='vscode-notebook-cell://wsl%2Bubuntu-20.04/home/sasidhar/projects/pycon2023-types-evulution/evolution_of_type_hints.ipynb#Y302sdnNjb2RlLXJlbW90ZQ%3D%3D?line=1'>2</a>\u001b[0m     \u001b[39mdef\u001b[39;49;00m \u001b[39m__init__\u001b[39;49m(\u001b[39mself\u001b[39;49m, left: Tree, right: Tree):\n\u001b[1;32m      <a href='vscode-notebook-cell://wsl%2Bubuntu-20.04/home/sasidhar/projects/pycon2023-types-evulution/evolution_of_type_hints.ipynb#Y302sdnNjb2RlLXJlbW90ZQ%3D%3D?line=2'>3</a>\u001b[0m         \u001b[39mself\u001b[39;49m\u001b[39m.\u001b[39;49mleft \u001b[39m=\u001b[39;49m left\n",
      "\u001b[1;32m/home/sasidhar/projects/pycon2023-types-evulution/evolution_of_type_hints.ipynb Cell 96\u001b[0m line \u001b[0;36m2\n\u001b[1;32m      <a href='vscode-notebook-cell://wsl%2Bubuntu-20.04/home/sasidhar/projects/pycon2023-types-evulution/evolution_of_type_hints.ipynb#Y302sdnNjb2RlLXJlbW90ZQ%3D%3D?line=0'>1</a>\u001b[0m \u001b[39mclass\u001b[39;00m \u001b[39mTree\u001b[39;00m:\n\u001b[0;32m----> <a href='vscode-notebook-cell://wsl%2Bubuntu-20.04/home/sasidhar/projects/pycon2023-types-evulution/evolution_of_type_hints.ipynb#Y302sdnNjb2RlLXJlbW90ZQ%3D%3D?line=1'>2</a>\u001b[0m     \u001b[39mdef\u001b[39;00m \u001b[39m__init__\u001b[39m(\u001b[39mself\u001b[39m, left: Tree, right: Tree):\n\u001b[1;32m      <a href='vscode-notebook-cell://wsl%2Bubuntu-20.04/home/sasidhar/projects/pycon2023-types-evulution/evolution_of_type_hints.ipynb#Y302sdnNjb2RlLXJlbW90ZQ%3D%3D?line=2'>3</a>\u001b[0m         \u001b[39mself\u001b[39m\u001b[39m.\u001b[39mleft \u001b[39m=\u001b[39m left\n\u001b[1;32m      <a href='vscode-notebook-cell://wsl%2Bubuntu-20.04/home/sasidhar/projects/pycon2023-types-evulution/evolution_of_type_hints.ipynb#Y302sdnNjb2RlLXJlbW90ZQ%3D%3D?line=3'>4</a>\u001b[0m         \u001b[39mself\u001b[39m\u001b[39m.\u001b[39mright \u001b[39m=\u001b[39m right\n",
      "\u001b[0;31mNameError\u001b[0m: name 'Tree' is not defined"
     ]
    }
   ],
   "source": [
    "class Tree:\n",
    "    def __init__(self, left: Tree, right: Tree):\n",
    "        self.left = left\n",
    "        self.right = right"
   ]
  },
  {
   "cell_type": "code",
   "execution_count": 116,
   "metadata": {},
   "outputs": [],
   "source": [
    "class Tree:\n",
    "    def __init__(self, left: 'Tree', right: 'Tree'):\n",
    "        self.left = left\n",
    "        self.right = right"
   ]
  },
  {
   "cell_type": "markdown",
   "metadata": {},
   "source": [
    "The string literal should contain a valid Python expression (i.e., compile(lit, '', 'eval') should be a valid code object) and it should evaluate without errors once the module has been fully loaded. The local and global namespace in which it is evaluated should be the same namespaces in which default arguments to the same function would be evaluated."
   ]
  },
  {
   "cell_type": "markdown",
   "metadata": {},
   "source": [
    "### Protocols: Structural subtyping (static duck typing) PEP 544"
   ]
  },
  {
   "cell_type": "markdown",
   "metadata": {},
   "source": [
    "Currently, PEP 484 and the typing module [typing] define abstract base classes for several common Python protocols such as Iterable and Sized.\\\n",
    "The problem with them is that a class has to be explicitly marked to support them, which is unpythonic and unlike what one would normally do in idiomatic dynamically typed Python code. For example, this conforms to PEP 484:"
   ]
  },
  {
   "cell_type": "code",
   "execution_count": 77,
   "metadata": {},
   "outputs": [],
   "source": [
    "from typing import Sized, Iterable, Iterator\n",
    "\n",
    "class Bucket(Sized, Iterable[int]):\n",
    "    ...\n",
    "    def __len__(self) -> int: ...\n",
    "    def __iter__(self) -> Iterator[int]: ..."
   ]
  },
  {
   "cell_type": "markdown",
   "metadata": {},
   "source": [
    "The intention of this PEP is to solve all these problems by allowing users to write the above code without explicit base classes in the class definition,\\\n",
    "allowing Bucket to be implicitly considered a subtype of both Sized and Iterable[int] by static type checkers using [structural subtyping](https://en.wikipedia.org/wiki/Structural_type_system):"
   ]
  },
  {
   "cell_type": "code",
   "execution_count": 78,
   "metadata": {},
   "outputs": [],
   "source": [
    "from typing import Iterator, Iterable\n",
    "\n",
    "class Bucket:\n",
    "    ...\n",
    "    def __len__(self) -> int: ...\n",
    "    def __iter__(self) -> Iterator[int]: ...\n",
    "\n",
    "def collect(items: Iterable[int]) -> int: ...\n",
    "\n",
    "result: int = collect(Bucket())  # Passes type check"
   ]
  },
  {
   "cell_type": "markdown",
   "metadata": {},
   "source": [
    "### Type Hinting Generics in Standard Collections PEP 585"
   ]
  },
  {
   "cell_type": "markdown",
   "metadata": {},
   "source": [
    "Static typing as defined by PEPs 484, 526, 544, 560, and 563 was built incrementally on top of the existing Python runtime and constrained by existing syntax and runtime behavior.\\\n",
    "This led to the existence of a duplicated collection hierarchy in the typing module due to generics (for example typing.List and the built-in list).\n",
    "\n",
    "This PEP proposes to enable support for the generics syntax in all standard collections currently available in the typing module.\n"
   ]
  },
  {
   "cell_type": "markdown",
   "metadata": {},
   "source": [
    "<img src=\"./images/generics_in_standard_collection_1.jpg\" alt=\"deprecated-generics\" width=\"400\"/>"
   ]
  },
  {
   "cell_type": "markdown",
   "metadata": {},
   "source": [
    "#### Allow writing union types as X | Y PEP 604"
   ]
  },
  {
   "cell_type": "markdown",
   "metadata": {},
   "source": [
    "Union type; Union[X, Y] is equivalent to X | Y and means either X or Y."
   ]
  },
  {
   "cell_type": "code",
   "execution_count": 83,
   "metadata": {},
   "outputs": [],
   "source": [
    "from typing import Never, Union\n",
    "\n",
    "def never_call_me(arg: Never) -> None:\n",
    "    pass\n",
    "\n",
    "# def int_or_str(arg: Union[int,str]) -> None:\n",
    "def int_or_str(arg: int | str) -> None:\n",
    "    never_call_me(arg)  # type checker error\n",
    "    match arg:\n",
    "        case int():\n",
    "            print(\"It's an int\")\n",
    "        case str():\n",
    "            print(\"It's a str\")\n",
    "        case _:\n",
    "            never_call_me(arg)  # OK, arg is of type Never"
   ]
  },
  {
   "cell_type": "markdown",
   "metadata": {},
   "source": [
    "### Marking individual TypedDict items as required or potentially-missing PEP 655"
   ]
  },
  {
   "cell_type": "markdown",
   "metadata": {},
   "source": [
    "#### TypedDict: Type Hints for Dictionaries with a Fixed Set of Keys PEP 589\n",
    "\n",
    "* PEP 484 defines the type Dict[K, V] for uniform dictionaries, where each value has the same type, and arbitrary key values are supported.\n",
    "* It doesn’t properly support the common pattern where the type of a dictionary value depends on the string value of the key.\n",
    "* This PEP proposes a type constructor **typing.TypedDict** to support the use case where a dictionary object has a specific set of string keys, each with a value of a specific type."
   ]
  },
  {
   "cell_type": "code",
   "execution_count": 117,
   "metadata": {},
   "outputs": [],
   "source": [
    "from typing import TypedDict\n",
    "\n",
    "conference = {'name': \"Pycon India\", 'year': 2023, 'location': 'Hyderabad'}\n",
    "\n",
    "class Conference(TypedDict, total=False): # By default total=True\n",
    "    name: str\n",
    "    year: int\n",
    "    location: str\n",
    "\n",
    "pycon_india: Conference = {'name': \"Pycon India\", 'year': 2023, 'location': 'Hyderabad'}\n",
    "pycon_india_workshop: Conference = {'name': \"Pycon India Workshop\", 'year': 2023}"
   ]
  },
  {
   "cell_type": "markdown",
   "metadata": {},
   "source": [
    "PEP 589 defines notation for declaring a TypedDict with all required keys and notation for defining a TypedDict with all potentially-missing keys,\\\n",
    "however it does not provide a mechanism to declare some keys as required and others as potentially-missing. "
   ]
  },
  {
   "cell_type": "code",
   "execution_count": 85,
   "metadata": {},
   "outputs": [],
   "source": [
    "from typing import TypedDict, Required, NotRequired\n",
    "\n",
    "class Conference(TypedDict, total=False): # By default total=True\n",
    "    name: Required[str]\n",
    "    year: Required[int]\n",
    "    location: NotRequired[str]\n",
    "\n",
    "pycon_india_wout_location: Conference = {'name': \"Pycon India\", 'year': 2023}\n",
    "\n",
    "pycon_india: Conference = {'name': \"Pycon India\",'location': 'Hyderabad'}\n"
   ]
  },
  {
   "cell_type": "code",
   "execution_count": 86,
   "metadata": {},
   "outputs": [],
   "source": [
    "from typing import TypedDict, Optional\n",
    "\n",
    "class Movie(TypedDict):\n",
    "    ...\n",
    "    year: Optional[int]  # means int|None, not potentially-missing!"
   ]
  },
  {
   "cell_type": "markdown",
   "metadata": {},
   "source": [
    "### User-Defined Type Gaurds PEP 647"
   ]
  },
  {
   "cell_type": "markdown",
   "metadata": {},
   "source": [
    "This PEP specifies a way for programs to influence conditional type narrowing employed by a type checker based on runtime checks."
   ]
  },
  {
   "cell_type": "markdown",
   "metadata": {},
   "source": [
    "* This PEP introduces the symbol TypeGuard exported from the typing module.\n",
    "* TypeGuard is a special form that accepts a single type argument.\n",
    "* It is used to annotate the return type of a user-defined type guard function.\n",
    "* Return statements within a type guard function should return bool values, and type checkers should verify that all return paths return a bool."
   ]
  },
  {
   "cell_type": "code",
   "execution_count": 87,
   "metadata": {},
   "outputs": [],
   "source": [
    "def is_str_list(val: list[object]) -> bool:\n",
    "    \"\"\"Determines whether all objects in the list are strings\"\"\"\n",
    "    return all(isinstance(x, str) for x in val)\n",
    "\n",
    "def func1(val: list[object])->Optional[str]:\n",
    "    if is_str_list(val):\n",
    "        print(\" \".join(val)) # Error: invalid type"
   ]
  },
  {
   "cell_type": "code",
   "execution_count": 88,
   "metadata": {},
   "outputs": [],
   "source": [
    "from typing import TypeGuard\n",
    "\n",
    "def is_str_list(val: List[object]) -> TypeGuard[List[str]]:\n",
    "    \"\"\"Determines whether all objects in the list are strings\"\"\"\n",
    "    return all(isinstance(x, str) for x in val)"
   ]
  },
  {
   "cell_type": "code",
   "execution_count": 89,
   "metadata": {},
   "outputs": [
    {
     "name": "stdout",
     "output_type": "stream",
     "text": [
      "Age: 67\n"
     ]
    }
   ],
   "source": [
    "from typing import TypeGuard, TypedDict\n",
    "\n",
    "class Person(TypedDict):\n",
    "    name: str\n",
    "    age: int\n",
    "\n",
    "def is_person(val: dict) -> \"TypeGuard[Person]\":\n",
    "    try:\n",
    "        return isinstance(val[\"name\"], str) and isinstance(val[\"age\"], int)\n",
    "    except KeyError:\n",
    "        return False\n",
    "\n",
    "def print_age(val: dict):\n",
    "    if is_person(val):\n",
    "        print(f\"Age: {val['age']}\")\n",
    "    else:\n",
    "        print(\"Not a person!\")\n",
    "\n",
    "person : Person ={'name':\"Guido\", 'age':67}\n",
    "\n",
    "print_age(dict(person))"
   ]
  },
  {
   "cell_type": "markdown",
   "metadata": {},
   "source": [
    "### Self Type PEP 673"
   ]
  },
  {
   "cell_type": "markdown",
   "metadata": {},
   "source": [
    "* This PEP introduces a simple and intuitive way to annotate methods that return an instance of their class.\n",
    "* This behaves the same as the TypeVar-based approach specified in PEP 484 but is more concise and easier to follow."
   ]
  },
  {
   "cell_type": "code",
   "execution_count": 90,
   "metadata": {},
   "outputs": [],
   "source": [
    "class Shape:\n",
    "    def set_scale(self, scale: float):\n",
    "        self.scale = scale\n",
    "        return self"
   ]
  },
  {
   "cell_type": "code",
   "execution_count": 91,
   "metadata": {},
   "outputs": [
    {
     "data": {
      "text/plain": [
       "<__main__.Shape at 0x7fd67dab37d0>"
      ]
     },
     "execution_count": 91,
     "metadata": {},
     "output_type": "execute_result"
    }
   ],
   "source": [
    "Shape().set_scale(0.5)  # => should be Shape"
   ]
  },
  {
   "cell_type": "code",
   "execution_count": 119,
   "metadata": {},
   "outputs": [
    {
     "data": {
      "text/plain": [
       "<__main__.Shape at 0x7fd67daeead0>"
      ]
     },
     "execution_count": 119,
     "metadata": {},
     "output_type": "execute_result"
    }
   ],
   "source": [
    "class Shape:\n",
    "    def set_scale(self, scale: float) -> \"Shape\":\n",
    "        self.scale = scale\n",
    "        return self\n",
    "\n",
    "Shape().set_scale(0.5)  # => Shape"
   ]
  },
  {
   "cell_type": "code",
   "execution_count": 93,
   "metadata": {},
   "outputs": [],
   "source": [
    "class Circle(Shape):\n",
    "    def set_radius(self, r: float) -> \"Circle\":\n",
    "        self.radius = r\n",
    "        return self"
   ]
  },
  {
   "cell_type": "code",
   "execution_count": 94,
   "metadata": {},
   "outputs": [
    {
     "data": {
      "text/plain": [
       "<__main__.Circle at 0x7fd67dab3fd0>"
      ]
     },
     "execution_count": 94,
     "metadata": {},
     "output_type": "execute_result"
    }
   ],
   "source": [
    "Circle().set_scale(0.5)  # *Shape*, not Circle\n",
    "Circle().set_scale(0.5).set_radius(2.7)\n",
    "# => Error: Shape has no attribute set_radius"
   ]
  },
  {
   "cell_type": "code",
   "execution_count": 95,
   "metadata": {},
   "outputs": [
    {
     "data": {
      "text/plain": [
       "<__main__.Circle at 0x7fd67dab22d0>"
      ]
     },
     "execution_count": 95,
     "metadata": {},
     "output_type": "execute_result"
    }
   ],
   "source": [
    "from typing import TypeVar\n",
    "\n",
    "TShape = TypeVar(\"TShape\", bound=\"Shape\")\n",
    "\n",
    "class Shape:\n",
    "    def set_scale(self: TShape, scale: float) -> TShape:\n",
    "        self.scale = scale\n",
    "        return self\n",
    "\n",
    "\n",
    "class Circle(Shape):\n",
    "    def set_radius(self, radius: float) -> Circle:\n",
    "        self.radius = radius\n",
    "        return self\n",
    "\n",
    "Circle().set_scale(0.5).set_radius(2.7)  # => Circle"
   ]
  },
  {
   "cell_type": "code",
   "execution_count": 120,
   "metadata": {},
   "outputs": [],
   "source": [
    "from typing import Self\n",
    "\n",
    "class Shape:\n",
    "    def set_scale(self, scale: float) -> Self:\n",
    "        self.scale = scale\n",
    "        return self\n",
    "\n",
    "\n",
    "class Circle(Shape):\n",
    "    def set_radius(self, radius: float) -> Self:\n",
    "        self.radius = radius\n",
    "        return self"
   ]
  },
  {
   "cell_type": "markdown",
   "metadata": {},
   "source": [
    "### Data Class Transforms PEP 681"
   ]
  },
  {
   "cell_type": "code",
   "execution_count": 125,
   "metadata": {},
   "outputs": [],
   "source": [
    "from typing import TypeVar, dataclass_transform\n",
    "_T = TypeVar(\"_T\")\n",
    "\n",
    "# The ``create_model`` decorator is defined by a library.\n",
    "# This could be in a type stub or inline.\n",
    "@dataclass_transform()\n",
    "def create_model(cls: type[_T]) -> type[_T]:\n",
    "    cls.__init__ = ...\n",
    "    cls.__eq__ = ...\n",
    "    cls.__ne__ = ...\n",
    "    return cls\n",
    "\n",
    "# The ``create_model`` decorator can now be used to create new model\n",
    "# classes, like this:\n",
    "@create_model\n",
    "class CustomerModel:\n",
    "    id: int\n",
    "    name: str"
   ]
  },
  {
   "cell_type": "markdown",
   "metadata": {},
   "source": [
    "### Summary"
   ]
  },
  {
   "cell_type": "markdown",
   "metadata": {},
   "source": [
    "* Providing type hints/annotations is absolutely optional, however it is strongly recommended.\n",
    "* Python Linters/IDEs can provide you immediate warnings/errors while coding.\n",
    "* Static type checkers like mypy and pydantic can help identify the issues up-front.\n",
    "* Type hints can definetely improve readability and also the maintainability of the code.\n",
    "* Type hints build robust code.\n",
    "* Thinking of types upfront helps improve design and architecture."
   ]
  },
  {
   "cell_type": "markdown",
   "metadata": {},
   "source": [
    "### Thank you"
   ]
  }
 ],
 "metadata": {
  "kernelspec": {
   "display_name": "pycon2023",
   "language": "python",
   "name": "python3"
  },
  "language_info": {
   "codemirror_mode": {
    "name": "ipython",
    "version": 3
   },
   "file_extension": ".py",
   "mimetype": "text/x-python",
   "name": "python",
   "nbconvert_exporter": "python",
   "pygments_lexer": "ipython3",
   "version": "3.11.4"
  },
  "orig_nbformat": 4
 },
 "nbformat": 4,
 "nbformat_minor": 2
}
