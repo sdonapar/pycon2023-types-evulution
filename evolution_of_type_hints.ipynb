{
 "cells": [
  {
   "cell_type": "markdown",
   "metadata": {},
   "source": [
    "## Evolution of Type hints in Python"
   ]
  },
  {
   "cell_type": "markdown",
   "metadata": {},
   "source": [
    "LinkedIn: [Sasidhar Donaparthi](https://www.linkedin.com/in/sasidonaparthi/)\n",
    "\n",
    "Twitter Handle: [sdonapar](https://twitter.com/sdonapar)\n",
    "\n",
    "Github: [sdonapar](https://github.com/sdonapar)"
   ]
  },
  {
   "cell_type": "markdown",
   "metadata": {},
   "source": [
    "### Python is a dynamically typed language\n",
    "Every programming language has a system of checking that values have been assigned their correct types, which is known as type checking\n",
    "\n",
    "<img src=\"./images/static_vs_dynamic_typing.jpg\" alt=\"typing-module\" width=\"600\"/>\n"
   ]
  },
  {
   "cell_type": "markdown",
   "metadata": {},
   "source": [
    "### Let's look at how the type hints are evolved in various versions of Python"
   ]
  },
  {
   "cell_type": "markdown",
   "metadata": {},
   "source": [
    "<img src=\"./images/peps_by_python.jpg\" alt=\"typing-module\" width=\"900\"/>"
   ]
  },
  {
   "cell_type": "markdown",
   "metadata": {},
   "source": [
    "#### Why Type hints?\n",
    "\n",
    "* **Help in building robust and stable programs - catch certains errors**\n",
    "* **Help create documentation**\n",
    "* **Improve IDEs and linters - like mypy and pydantic**\n",
    "* **Helps to build and maintain a cleaner architecture**\n",
    "\n",
    "Reference : [Pros and Cons of Type Hints](https://realpython.com/lessons/pros-and-cons-type-hints/)"
   ]
  },
  {
   "cell_type": "markdown",
   "metadata": {},
   "source": [
    "#### Type Checkers\n",
    "\n",
    "[Mypy](https://mypy-lang.org/) is an optional static type checker for Python that aims to combine the benefits of dynamic (or \"duck\") typing and static typing.\\\n",
    "Mypy combines the expressive power and convenience of Python with a powerful type system and compile-time type checking.\\\n",
    "Mypy type checks standard Python programs; run them using any Python VM with basically no runtime overhead.\n",
    "\n",
    "Migrate existing code to static typing, a function at a time.\\\n",
    "You can freely mix static and dynamic typing within a program, within a module or within an expression.\\\n",
    "No need to give up dynamic typing — use static typing when it makes sense.\\\n",
    "Often just adding function signatures gives you statically typed code. Mypy can infer the types of other variables.\n",
    "\n",
    "```pip install mypy```"
   ]
  },
  {
   "cell_type": "markdown",
   "metadata": {},
   "source": [
    "[Pydantic](https://docs.pydantic.dev/latest/) is the most widely used data validation library for Python.\n",
    "\n",
    "Fast and extensible, Pydantic plays nicely with your linters/IDE/brain. Define how data should be in pure, canonical Python 3.7+; validate it with Pydantic.\n",
    "\n",
    "Around 8,000 packages on PyPI use Pydantic, including massively popular libraries like \n",
    "* [FastAPI](https://fastapi.tiangolo.com/)\n",
    "* [huggingface](https://huggingface.co/)\n",
    "* [Django Ninja](https://django-ninja.rest-framework.com/)\n",
    "* [SQLModel](https://sqlmodel.tiangolo.com/)\n",
    "* [LangChain](https://python.langchain.com/docs/get_started/introduction.html)"
   ]
  },
  {
   "cell_type": "markdown",
   "metadata": {},
   "source": [
    "### [typing](https://docs.python.org/3/library/typing.html) -- Support of type hints\n",
    "\n",
    "Introduced since Python 3.5,\\\n",
    "Python’s typing module attempts to provide a way of hinting types to help static type checkers and linters accurately predict errors.\n"
   ]
  },
  {
   "cell_type": "markdown",
   "metadata": {},
   "source": [
    "<img src=\"./images/typing_module_pypi.png\" alt=\"typing-module\" width=\"800\"/>"
   ]
  },
  {
   "cell_type": "markdown",
   "metadata": {},
   "source": [
    "#### Supports following\n",
    "\n",
    "|General   |Special Typing Primitives|Other Special directives|Functions and Decorators|Introspection Helpers|\n",
    "|----------|-------------------------|------------------------|------------------------|---------------------|\n",
    "|TypeAlias |Any                      |NamedTuple              |cast                    |get_type_hints       |\n",
    "|NewType   |AnyStr                   |Protocol                |assert_type             |get_origin           |\n",
    "|Callable  |LiteralString            |TypeDict                |assert_never            |get_args             |\n",
    "|TypeVar   |Never                    |                        |reveal_type             |is_typeddict         |\n",
    "|type      |NoReturn                 |                        |dataclass_transform     |ForwardRef           |\n",
    "|Generic   |Self                     |                        |overload                |                     |\n",
    "|Mapping   |Union                    |                        |get_overloads           |                     |\n",
    "|Sequence  |Optional                 |                        |clear_overloads         |                     |\n",
    "|          |Concatenate              |                        |final                   |                     |\n",
    "|          |Literal                  |                        |no_type_check           |                     |\n",
    "|          |ClassVar                 |                        |type_check_only         |                     |\n",
    "|          |Final                    |                        |                        |                     |\n",
    "|          |Required                 |                        |                        |                     |\n",
    "|          |NotRequired              |                        |                        |                     |\n",
    "|          |Annotated                |                        |                        |                     |\n",
    "|          |TypeGuard                |                        |                        |                     |\n",
    "|          |Unpack                   |                        |                        |                     |\n",
    "|          |TypeVarTuple             |                        |                        |                     |\n",
    "|          |ParamSpec                |                        |                        |                     |\n"
   ]
  },
  {
   "cell_type": "markdown",
   "metadata": {},
   "source": [
    "### Python 3.0 - Function Annotations ( PEP 3107)"
   ]
  },
  {
   "cell_type": "markdown",
   "metadata": {},
   "source": [
    "This PEP aims to provide a single, standard way of specifying this information, reducing the confusion caused by the wide variation in mechanism and syntax that has existed until this point.\n",
    "\n",
    "1. Function annotations, both for parameters and return values, are completely **optional.**\n",
    "2. Function annotations are nothing more than a way of associating **arbitrary Python expressions** with various parts of a function at compile-time.\n",
    "\n",
    "By itself, Python does not attach any **particular meaning or significance to annotations**. Left to its own, Python simply makes these expressions available as described in **Accessing Function Annotations below.**"
   ]
  },
  {
   "cell_type": "code",
   "execution_count": 71,
   "metadata": {},
   "outputs": [],
   "source": [
    "def foo(a,b):\n",
    "    c = a + b\n",
    "    return c"
   ]
  },
  {
   "cell_type": "code",
   "execution_count": 72,
   "metadata": {},
   "outputs": [
    {
     "data": {
      "text/plain": [
       "{}"
      ]
     },
     "execution_count": 72,
     "metadata": {},
     "output_type": "execute_result"
    }
   ],
   "source": [
    "foo.__annotations__"
   ]
  },
  {
   "cell_type": "code",
   "execution_count": 73,
   "metadata": {},
   "outputs": [],
   "source": [
    "def bar(a:int, b:int = 0) -> int:\n",
    "    c = a + b\n",
    "    return c"
   ]
  },
  {
   "cell_type": "code",
   "execution_count": 74,
   "metadata": {},
   "outputs": [
    {
     "data": {
      "text/plain": [
       "{'a': int, 'b': int, 'return': int}"
      ]
     },
     "execution_count": 74,
     "metadata": {},
     "output_type": "execute_result"
    }
   ],
   "source": [
    "bar.__annotations__"
   ]
  },
  {
   "cell_type": "code",
   "execution_count": 75,
   "metadata": {},
   "outputs": [],
   "source": [
    "from typing import get_type_hints"
   ]
  },
  {
   "cell_type": "code",
   "execution_count": 76,
   "metadata": {},
   "outputs": [
    {
     "data": {
      "text/plain": [
       "{'a': int, 'b': int, 'return': int}"
      ]
     },
     "execution_count": 76,
     "metadata": {},
     "output_type": "execute_result"
    }
   ],
   "source": [
    "get_type_hints(bar)"
   ]
  },
  {
   "cell_type": "markdown",
   "metadata": {},
   "source": [
    "### Python 3.5 - Syntax for Variable Annotations ( PEP 526)\n",
    "\n",
    "* PEP 484 introduced type hints, a.k.a. type annotations. \n",
    "* While its main focus was function annotations, it also introduced the notion of type comments to annotate variables:"
   ]
  },
  {
   "cell_type": "code",
   "execution_count": null,
   "metadata": {},
   "outputs": [],
   "source": [
    "# 'primes' is a list of integers\n",
    "primes = []  # type: List[int]\n",
    "\n",
    "# 'captain' is a string (Note: initial value is a problem)\n",
    "captain = ...  # type: str\n",
    "\n",
    "class Starship:\n",
    "    # 'stats' is a class variable\n",
    "    stats = {}  # type: Dict[str, int]"
   ]
  },
  {
   "cell_type": "markdown",
   "metadata": {},
   "source": [
    "This PEP 526 aims at adding syntax to Python for annotating the types of variables (including class variables and instance variables)\\\n",
    "instead of expressing them through comments:"
   ]
  },
  {
   "cell_type": "markdown",
   "metadata": {},
   "source": [
    "from typing import List, Dict, Tuple, Set ( these methods are deprciated )\n",
    "\n",
    "deprecated aliases to pre-existing standard library classes. These were originally included in the typing module in order to support parameterizing these generic classes using []. \n",
    "However, the aliases became redundant in Python 3.9 when the corresponding pre-existing classes were enhanced to support [] (see PEP 585)."
   ]
  },
  {
   "cell_type": "code",
   "execution_count": 79,
   "metadata": {},
   "outputs": [],
   "source": [
    "name : str\n",
    "department : str = \"Accounts\"\n",
    "primes: list[int] = [1,3,5,7]\n",
    "vector: list[float] = [1.0,2.0,3.0,4.0] \n",
    "point : tuple[float,float] = (2.5,8.5)\n",
    "role : set[str] = {'Data Scientist','Data Engineer','Prompt Engineer'}"
   ]
  },
  {
   "cell_type": "code",
   "execution_count": 80,
   "metadata": {},
   "outputs": [],
   "source": [
    "from typing import ClassVar\n",
    "\n",
    "class Starship:\n",
    "    stats : ClassVar[dict[str,int]]"
   ]
  },
  {
   "cell_type": "markdown",
   "metadata": {},
   "source": []
  },
  {
   "cell_type": "markdown",
   "metadata": {},
   "source": [
    "### Python 3.5 - Type Hints ( PEP 484 )"
   ]
  },
  {
   "cell_type": "markdown",
   "metadata": {},
   "source": [
    "This PEP aims to provide a standard syntax for type annotations, opening up Python code \n",
    "* to easier static analysis and refactoring.\n",
    "* potential runtime type checking.\n",
    "* and (perhaps, in some contexts) code generation utilizing type information.\n",
    "\n",
    "Of these goals, **static analysis** is the most important.\\\n",
    "This includes support for off-line type checkers such as mypy, as well as providing a standard notation that can be used by IDEs for code completion and refactoring"
   ]
  },
  {
   "cell_type": "markdown",
   "metadata": {},
   "source": [
    "It should also be emphasized that **Python will remain a dynamically typed language, and the authors have no desire to ever make type hints mandatory, even by convention.**"
   ]
  },
  {
   "cell_type": "markdown",
   "metadata": {},
   "source": [
    "* Any function without annotations should be treated as having the most general type possible, or ignored, by any type checker.\n",
    "* Functions with the **@no_type_check** decorator should be treated as having no annotations.\n",
    "* It is recommended but not required that checked functions have annotations for all arguments and the return type.\n",
    "* For a checked function, the default annotation for arguments and for the return type is Any\n",
    "\n",
    "* An exception is the first argument of instance and class methods."
   ]
  },
  {
   "cell_type": "markdown",
   "metadata": {},
   "source": [
    "Type hints may be\n",
    "* built-in classes (including those defined in standard library or third-party extension modules)\n",
    "* abstract base classes\n",
    "* types available in the types module\n",
    "* user-defined classes (including those defined in the standard library or third-party modules)"
   ]
  },
  {
   "cell_type": "code",
   "execution_count": 9,
   "metadata": {},
   "outputs": [],
   "source": [
    "from typing import no_type_check"
   ]
  },
  {
   "cell_type": "code",
   "execution_count": 10,
   "metadata": {},
   "outputs": [],
   "source": [
    "@no_type_check\n",
    "def test_function1(a,b,c):\n",
    "    return a+b+c\n",
    "\n",
    "def test_function2(a:int,b:int,c:int)->int:\n",
    "    return a+b+c"
   ]
  },
  {
   "cell_type": "code",
   "execution_count": 11,
   "metadata": {},
   "outputs": [
    {
     "data": {
      "text/plain": [
       "{}"
      ]
     },
     "execution_count": 11,
     "metadata": {},
     "output_type": "execute_result"
    }
   ],
   "source": [
    "test_function1.__annotations__"
   ]
  },
  {
   "cell_type": "code",
   "execution_count": 12,
   "metadata": {},
   "outputs": [
    {
     "data": {
      "text/plain": [
       "{'a': int, 'b': int, 'c': int, 'return': int}"
      ]
     },
     "execution_count": 12,
     "metadata": {},
     "output_type": "execute_result"
    }
   ],
   "source": [
    "test_function2.__annotations__"
   ]
  },
  {
   "cell_type": "code",
   "execution_count": 36,
   "metadata": {},
   "outputs": [],
   "source": [
    "class Conference:\n",
    "    def __init__(self,name:str,year:int = 2023,location:str = None):\n",
    "        self.name = name\n",
    "        self.year = year\n",
    "        self.location = location\n",
    "    def __str__(self):\n",
    "        return f\"Conference({self.name},{self.year},{self.location})\""
   ]
  },
  {
   "cell_type": "code",
   "execution_count": 37,
   "metadata": {},
   "outputs": [
    {
     "data": {
      "text/plain": [
       "{'name': str, 'year': int, 'location': str}"
      ]
     },
     "execution_count": 37,
     "metadata": {},
     "output_type": "execute_result"
    }
   ],
   "source": [
    "Conference.__init__.__annotations__"
   ]
  },
  {
   "cell_type": "code",
   "execution_count": 38,
   "metadata": {},
   "outputs": [],
   "source": [
    "pycon_india_2023 = Conference(\"Pycon India\",2023,\"Hyderabad\")"
   ]
  },
  {
   "cell_type": "code",
   "execution_count": 44,
   "metadata": {},
   "outputs": [],
   "source": [
    "def make_conference(my_class:Conference,name:str,location:str)->Conference:\n",
    "    return my_class(name,2023,location)"
   ]
  },
  {
   "cell_type": "code",
   "execution_count": 45,
   "metadata": {},
   "outputs": [],
   "source": [
    "pycon_india = make_conference(Conference,\"Pycon India\",\"Hyderabad\")"
   ]
  },
  {
   "cell_type": "code",
   "execution_count": 46,
   "metadata": {},
   "outputs": [
    {
     "name": "stdout",
     "output_type": "stream",
     "text": [
      "Conference(Pycon India,2023,Hyderabad)\n"
     ]
    }
   ],
   "source": [
    "print(pycon_india_2023)"
   ]
  },
  {
   "cell_type": "code",
   "execution_count": 48,
   "metadata": {},
   "outputs": [
    {
     "data": {
      "text/plain": [
       "{'my_class': __main__.Conference,\n",
       " 'name': str,\n",
       " 'location': str,\n",
       " 'return': __main__.Conference}"
      ]
     },
     "execution_count": 48,
     "metadata": {},
     "output_type": "execute_result"
    }
   ],
   "source": [
    "make_conference.__annotations__"
   ]
  },
  {
   "cell_type": "markdown",
   "metadata": {},
   "source": [
    "#### Type aliases"
   ]
  },
  {
   "cell_type": "code",
   "execution_count": 82,
   "metadata": {},
   "outputs": [],
   "source": [
    "Url = str\n",
    "Count = int\n",
    "Result = list\n",
    "\n",
    "def retry1(url: Url, retry_count: Count) -> Result:..."
   ]
  },
  {
   "cell_type": "code",
   "execution_count": 84,
   "metadata": {},
   "outputs": [
    {
     "data": {
      "text/plain": [
       "{'url': str, 'retry_count': int, 'return': list}"
      ]
     },
     "execution_count": 84,
     "metadata": {},
     "output_type": "execute_result"
    }
   ],
   "source": [
    "retry1.__annotations__"
   ]
  },
  {
   "cell_type": "code",
   "execution_count": 83,
   "metadata": {},
   "outputs": [],
   "source": [
    "from typing import TypeAlias\n",
    "Url: TypeAlias = str\n",
    "Count: TypeAlias = int\n",
    "Result: TypeAlias = list\n",
    "\n",
    "def retry2(url: Url, retry_count: Count) -> Result:..."
   ]
  },
  {
   "cell_type": "code",
   "execution_count": 85,
   "metadata": {},
   "outputs": [
    {
     "data": {
      "text/plain": [
       "{'url': str, 'retry_count': int, 'return': list}"
      ]
     },
     "execution_count": 85,
     "metadata": {},
     "output_type": "execute_result"
    }
   ],
   "source": [
    "retry2.__annotations__"
   ]
  },
  {
   "cell_type": "markdown",
   "metadata": {},
   "source": [
    "#### Callable"
   ]
  },
  {
   "cell_type": "markdown",
   "metadata": {},
   "source": [
    "**Ellipsis**\n",
    "\n",
    "Ellipsis is a Python Object. It has no Methods.\\\n",
    "It is a singleton Object i.e. , provides easy access to single instances.\n",
    "\n",
    "Various Use Cases of Ellipsis (…):\n",
    "\n",
    "* Default Secondary Prompt in Python interpreter.\n",
    "* Accessing and slicing multidimensional Arrays/NumPy indexing.\n",
    "* In type hinting.\n",
    "* Used as Pass Statement inside Functions."
   ]
  },
  {
   "cell_type": "code",
   "execution_count": 87,
   "metadata": {},
   "outputs": [],
   "source": [
    "from typing import Callable\n",
    "\n",
    "def feeder(get_next_item: Callable[[], str]) -> None:...\n",
    "\n",
    "def async_query(on_success: Callable[[int], None],\n",
    "                on_error: Callable[[int, Exception], None]) -> None:...\n",
    "\n",
    "def partial(func: Callable[..., str], *args) -> Callable[..., str]:..."
   ]
  },
  {
   "cell_type": "code",
   "execution_count": 91,
   "metadata": {},
   "outputs": [],
   "source": [
    "def concat(x: str, y: str) -> str:\n",
    "    return x + y\n",
    "\n",
    "myfunc: Callable[..., str] = concat\n"
   ]
  },
  {
   "cell_type": "code",
   "execution_count": 92,
   "metadata": {},
   "outputs": [
    {
     "data": {
      "text/plain": [
       "{'x': str, 'y': str, 'return': str}"
      ]
     },
     "execution_count": 92,
     "metadata": {},
     "output_type": "execute_result"
    }
   ],
   "source": [
    "myfunc.__annotations__"
   ]
  },
  {
   "cell_type": "code",
   "execution_count": 108,
   "metadata": {},
   "outputs": [
    {
     "data": {
      "text/plain": [
       "{'get_next_item': typing.Callable[[], str], 'return': None}"
      ]
     },
     "execution_count": 108,
     "metadata": {},
     "output_type": "execute_result"
    }
   ],
   "source": [
    "feeder.__annotations__"
   ]
  },
  {
   "cell_type": "code",
   "execution_count": 109,
   "metadata": {},
   "outputs": [
    {
     "data": {
      "text/plain": [
       "{'on_success': typing.Callable[[int], NoneType],\n",
       " 'on_error': typing.Callable[[int, Exception], NoneType],\n",
       " 'return': None}"
      ]
     },
     "execution_count": 109,
     "metadata": {},
     "output_type": "execute_result"
    }
   ],
   "source": [
    "async_query.__annotations__"
   ]
  },
  {
   "cell_type": "code",
   "execution_count": 110,
   "metadata": {},
   "outputs": [
    {
     "data": {
      "text/plain": [
       "{'func': typing.Callable[..., str], 'return': typing.Callable[..., str]}"
      ]
     },
     "execution_count": 110,
     "metadata": {},
     "output_type": "execute_result"
    }
   ],
   "source": [
    "partial.__annotations__"
   ]
  },
  {
   "cell_type": "markdown",
   "metadata": {},
   "source": [
    "#### Parameter Specification PEP 612"
   ]
  },
  {
   "cell_type": "code",
   "execution_count": 130,
   "metadata": {},
   "outputs": [
    {
     "data": {
      "text/plain": [
       "(6.6, 16)"
      ]
     },
     "execution_count": 130,
     "metadata": {},
     "output_type": "execute_result"
    }
   ],
   "source": [
    "from threading import Lock\n",
    "from typing import Callable, Concatenate, ParamSpec, TypeVar\n",
    "\n",
    "P = ParamSpec('P')\n",
    "R = TypeVar('R')\n",
    "\n",
    "# Use this lock to ensure that only one thread is executing a function\n",
    "# at any time.\n",
    "my_lock = Lock()\n",
    "\n",
    "def with_lock(f: Callable[Concatenate[Lock, P], R]) -> Callable[P, R]:\n",
    "    '''A type-safe decorator which provides a lock.'''\n",
    "    def inner(*args: P.args, **kwargs: P.kwargs) -> R:\n",
    "        # Provide the lock as the first argument.\n",
    "        return f(my_lock, *args, **kwargs)\n",
    "    return inner\n",
    "\n",
    "NumType = TypeVar(\"NumType\",float,int)\n",
    "\n",
    "@with_lock\n",
    "def sum_threadsafe(lock: Lock, numbers: list[NumType]) -> NumType:\n",
    "    '''Add a list of numbers together in a thread-safe manner.'''\n",
    "    with lock:\n",
    "        return sum(numbers)\n",
    "\n",
    "# We don't need to pass in the lock ourselves thanks to the decorator.\n",
    "sum_float = sum_threadsafe([1.1, 2.2, 3.3])\n",
    "sum_int = sum_threadsafe([1, 2, 5,8])\n",
    "\n",
    "sum_float,sum_int"
   ]
  },
  {
   "cell_type": "code",
   "execution_count": 127,
   "metadata": {},
   "outputs": [
    {
     "data": {
      "text/plain": [
       "(typing.ParamSpecArgs, typing.ParamSpecKwargs)"
      ]
     },
     "execution_count": 127,
     "metadata": {},
     "output_type": "execute_result"
    }
   ],
   "source": [
    "type(P.args),type(P.kwargs)"
   ]
  },
  {
   "cell_type": "markdown",
   "metadata": {},
   "source": [
    "#### The type of class objects¶\n"
   ]
  },
  {
   "cell_type": "code",
   "execution_count": 119,
   "metadata": {},
   "outputs": [
    {
     "data": {
      "text/plain": [
       "Employee(name:Ivan )"
      ]
     },
     "execution_count": 119,
     "metadata": {},
     "output_type": "execute_result"
    }
   ],
   "source": [
    "class Employee:\n",
    "    def __init__(self,name):\n",
    "        self.name = name\n",
    "\n",
    "    def __repr__(self):\n",
    "        return f\"Employee(name:{self.name})\"\n",
    "\n",
    "class Accountant(Employee): ...\n",
    "class TeamLead(Employee): ...\n",
    "\n",
    "def make_new_employee(employee_class: type[Employee],name:str) -> Employee:\n",
    "    # ...\n",
    "    return employee_class(name=name)\n",
    "\n",
    "make_new_employee(Employee,\"Guido\")      # OK\n",
    "make_new_employee(Accountant,\"Lukasz\")   # Also OK: ``type[Accountant]`` is a subtype of ``type[Employee]``\n",
    "make_new_employee(TeamLead,\"Ivan \")  # Still fine\n",
    "\n",
    "# make_new_employee(Employee(\"Mark\"),\"Mark\")    # Error: expected ``type[Employee]`` but got ``Employee``\n",
    "# make_new_employee(int,\"Jukka\")       # Error: ``type[int]`` is not a subtype of ``type[Employee]``"
   ]
  },
  {
   "cell_type": "markdown",
   "metadata": {},
   "source": [
    "### Generics\n",
    "\n",
    "Generics can be parameterized by using a new factory available in typing called TypeVar. Example:\n"
   ]
  },
  {
   "cell_type": "code",
   "execution_count": 123,
   "metadata": {},
   "outputs": [
    {
     "name": "stdout",
     "output_type": "stream",
     "text": [
      "[Employee(name:Emp2), Employee(name:Emp3), Employee(name:Emp1)]\n",
      "[Employee(name:Emp2), Employee(name:Emp1), 'Pycon']\n"
     ]
    }
   ],
   "source": [
    "from typing import Mapping, TypeVar, Sequence\n",
    "\n",
    "EmployeeType = TypeVar(\"EmployeeType\",Employee,str) # Generic\n",
    "\n",
    "def notify_by_email(employees: set[EmployeeType], overrides: Mapping[str, str]) -> list[EmployeeType]:\n",
    "    return list(employees)\n",
    "\n",
    "employee_1 = Employee(\"Emp1\")\n",
    "employee_2 = Employee(\"Emp2\")\n",
    "employee_3 = Employee(\"Emp3\")\n",
    "\n",
    "output = notify_by_email({employee_1,employee_2,employee_3},{\"test\":\"test\"}) # this in not valid\n",
    "print(output)\n",
    "\n",
    "output = notify_by_email({employee_1,employee_2,\"Pycon\"},{\"test\":\"test\"}) # this in not valid\n",
    "print(output)"
   ]
  },
  {
   "cell_type": "code",
   "execution_count": 131,
   "metadata": {},
   "outputs": [],
   "source": [
    "T = TypeVar('T')      # Declare type variable\n",
    "\n",
    "def first(mylist: Sequence[T]) -> T:   # Generic function\n",
    "    return mylist[0]\n",
    "\n",
    "KeyType = TypeVar(\"KeyType\",str,bytes) # Declare type variable\n",
    "ValueType = TypeVar(\"ValueType\",int, float) # Declare type variable\n",
    "\n",
    "def get_value(key:KeyType,my_dict:Mapping[KeyType,ValueType])->ValueType:\n",
    "    value = my_dict.get(key,0)\n",
    "    return value\n",
    "\n",
    "def concat(str1: KeyType,str2:KeyType) -> KeyType:\n",
    "    return str1 + str2\n"
   ]
  },
  {
   "cell_type": "code",
   "execution_count": 115,
   "metadata": {},
   "outputs": [
    {
     "data": {
      "text/plain": [
       "{'key': ~KeyType,\n",
       " 'my_dict': typing.Mapping[~KeyType, ~ValueType],\n",
       " 'return': ~ValueType}"
      ]
     },
     "execution_count": 115,
     "metadata": {},
     "output_type": "execute_result"
    }
   ],
   "source": [
    "get_value.__annotations__"
   ]
  },
  {
   "cell_type": "code",
   "execution_count": 133,
   "metadata": {},
   "outputs": [
    {
     "name": "stdout",
     "output_type": "stream",
     "text": [
      "<class 'str'>\n"
     ]
    }
   ],
   "source": [
    "class Mystr(str):...\n",
    "\n",
    "con_str = concat( Mystr('Pycon '),Mystr('India'))\n",
    "\n",
    "print(type(con_str))"
   ]
  },
  {
   "cell_type": "markdown",
   "metadata": {},
   "source": [
    "### User-defined generic types"
   ]
  },
  {
   "cell_type": "code",
   "execution_count": 144,
   "metadata": {},
   "outputs": [],
   "source": [
    "from typing import TypeVar, Generic\n",
    "from logging import Logger\n",
    "import logging\n",
    "T = TypeVar('T')\n",
    "\n",
    "class LoggedVar(Generic[T]):\n",
    "    def __init__(self, value: T, name: str, logger: Logger) -> None:\n",
    "        self.name = name\n",
    "        self.logger = logger\n",
    "        self.value = value\n",
    "\n",
    "    def set(self, new: T) -> None:\n",
    "        self.log('Set ' + repr(self.value))\n",
    "        self.value = new\n",
    "\n",
    "    def get(self) -> T:\n",
    "        self.log('Get ' + repr(self.value))\n",
    "        return self.value\n",
    "\n",
    "    def log(self, message: str) -> None:\n",
    "        self.logger.info('{}: {}'.format(self.name, message))"
   ]
  },
  {
   "cell_type": "code",
   "execution_count": 162,
   "metadata": {},
   "outputs": [],
   "source": [
    "mylogger = Logger(\"test\")\n",
    "formatter = logging.Formatter('%(message)s') \n",
    "\n",
    "ch = logging.StreamHandler()\n",
    "ch.setLevel(logging.INFO)\n",
    "ch.setFormatter(formatter)\n",
    "mylogger.addHandler(ch)\n"
   ]
  },
  {
   "cell_type": "code",
   "execution_count": 171,
   "metadata": {},
   "outputs": [],
   "source": [
    "x = LoggedVar(\"Run1\",\"Pycon2023\",mylogger)"
   ]
  },
  {
   "cell_type": "code",
   "execution_count": 172,
   "metadata": {},
   "outputs": [
    {
     "data": {
      "text/plain": [
       "{'value': ~T, 'name': str, 'logger': logging.Logger, 'return': None}"
      ]
     },
     "execution_count": 172,
     "metadata": {},
     "output_type": "execute_result"
    }
   ],
   "source": [
    "LoggedVar.__init__.__annotations__"
   ]
  },
  {
   "cell_type": "code",
   "execution_count": 173,
   "metadata": {},
   "outputs": [
    {
     "name": "stderr",
     "output_type": "stream",
     "text": [
      "Pycon2023: Get 'Test'\n"
     ]
    },
    {
     "data": {
      "text/plain": [
       "'Test'"
      ]
     },
     "execution_count": 173,
     "metadata": {},
     "output_type": "execute_result"
    }
   ],
   "source": [
    "x.get()"
   ]
  },
  {
   "cell_type": "code",
   "execution_count": 178,
   "metadata": {},
   "outputs": [
    {
     "name": "stderr",
     "output_type": "stream",
     "text": [
      "Pycon2023: Set 'Pycon2023Hyd'\n"
     ]
    }
   ],
   "source": [
    "x.set(\"Run2\")"
   ]
  },
  {
   "cell_type": "code",
   "execution_count": 179,
   "metadata": {},
   "outputs": [
    {
     "data": {
      "text/plain": [
       "'Run2'"
      ]
     },
     "execution_count": 179,
     "metadata": {},
     "output_type": "execute_result"
    }
   ],
   "source": [
    "x.value"
   ]
  },
  {
   "cell_type": "code",
   "execution_count": 180,
   "metadata": {},
   "outputs": [
    {
     "name": "stderr",
     "output_type": "stream",
     "text": [
      "Pycon2023: Get 'Run2'\n"
     ]
    },
    {
     "data": {
      "text/plain": [
       "'Run2'"
      ]
     },
     "execution_count": 180,
     "metadata": {},
     "output_type": "execute_result"
    }
   ],
   "source": [
    "x.get()"
   ]
  },
  {
   "cell_type": "code",
   "execution_count": 181,
   "metadata": {},
   "outputs": [
    {
     "name": "stderr",
     "output_type": "stream",
     "text": [
      "Pycon2023: test\n"
     ]
    }
   ],
   "source": [
    "x.log(\"test\")"
   ]
  },
  {
   "cell_type": "code",
   "execution_count": 182,
   "metadata": {},
   "outputs": [],
   "source": [
    "from typing import TypeVar, Generic\n",
    "\n",
    "T = TypeVar('T')\n",
    "\n",
    "class Node(Generic[T]):\n",
    "    x = None  # type: T # Instance attribute (see below)\n",
    "    def __init__(self, label: T = None) -> None:\n",
    "        ...\n",
    "\n",
    "x = Node('')  # Inferred type is Node[str]\n",
    "y = Node(0)   # Inferred type is Node[int]\n",
    "z = Node()    # Inferred type is Node[Any]"
   ]
  },
  {
   "cell_type": "code",
   "execution_count": 183,
   "metadata": {},
   "outputs": [],
   "source": [
    "# (continued from previous example)\n",
    "a = Node()  # type: Node[int]\n",
    "b = Node()  # type: Node[str]"
   ]
  },
  {
   "cell_type": "code",
   "execution_count": 184,
   "metadata": {},
   "outputs": [],
   "source": [
    "p = Node[int]()\n",
    "q = Node[str]()\n",
    "\n",
    "r = Node[int]('')  # Error\n",
    "s = Node[str](0)   # Error"
   ]
  },
  {
   "cell_type": "code",
   "execution_count": 185,
   "metadata": {},
   "outputs": [
    {
     "data": {
      "text/plain": [
       "{'label': ~T, 'return': None}"
      ]
     },
     "execution_count": 185,
     "metadata": {},
     "output_type": "execute_result"
    }
   ],
   "source": [
    "Node.__init__.__annotations__"
   ]
  },
  {
   "cell_type": "markdown",
   "metadata": {},
   "source": [
    "### Literal Types PEP 586"
   ]
  },
  {
   "cell_type": "code",
   "execution_count": 198,
   "metadata": {},
   "outputs": [],
   "source": [
    "from typing import overload,Union, Literal, IO, Any\n",
    "# Note: this is a simplification of the true type signature.\n",
    "_PathType = Union[str, bytes, int]\n",
    "\n",
    "@overload\n",
    "def open(path: _PathType,\n",
    "         mode: Literal[\"r\", \"w\", \"a\", \"x\", \"r+\", \"w+\", \"a+\", \"x+\"],\n",
    "         ) -> IO[str]: ...\n",
    "@overload\n",
    "def open(path: _PathType,\n",
    "         mode: Literal[\"rb\", \"wb\", \"ab\", \"xb\", \"r+b\", \"w+b\", \"a+b\", \"x+b\"],\n",
    "         ) -> IO[bytes]: ...\n",
    "\n",
    "# Fallback overload for when the user isn't using literal types\n",
    "@overload\n",
    "def open(path: _PathType, mode: str) -> IO[Any]: ..."
   ]
  },
  {
   "cell_type": "code",
   "execution_count": 202,
   "metadata": {},
   "outputs": [],
   "source": [
    "count : Literal = 20\n",
    "department: Literal[\"Accounts\",\"IT\",\"HR\"]"
   ]
  },
  {
   "cell_type": "code",
   "execution_count": 203,
   "metadata": {},
   "outputs": [],
   "source": [
    "def my_function(x: Literal[1 + 2]) -> int:\n",
    "    return x * 3\n",
    "\n",
    "x: Literal = 3\n",
    "y: Literal[my_function] = my_function"
   ]
  },
  {
   "cell_type": "code",
   "execution_count": 204,
   "metadata": {},
   "outputs": [
    {
     "data": {
      "text/plain": [
       "{'x': typing.Literal[3], 'return': int}"
      ]
     },
     "execution_count": 204,
     "metadata": {},
     "output_type": "execute_result"
    }
   ],
   "source": [
    "my_function.__annotations__"
   ]
  },
  {
   "cell_type": "code",
   "execution_count": 208,
   "metadata": {},
   "outputs": [],
   "source": [
    "t: tuple[Literal[1], Literal[\"foo\"], Literal[\"bar\"]]"
   ]
  },
  {
   "cell_type": "code",
   "execution_count": 207,
   "metadata": {},
   "outputs": [
    {
     "data": {
      "text/plain": [
       "typing.Literal[{'a': 'b', 'c': 'd'}]"
      ]
     },
     "execution_count": 207,
     "metadata": {},
     "output_type": "execute_result"
    }
   ],
   "source": [
    "Literal[{\"a\": \"b\", \"c\": \"d\"}]"
   ]
  },
  {
   "cell_type": "markdown",
   "metadata": {},
   "source": [
    "### Adding a final qualifier to typing PEP 591"
   ]
  },
  {
   "cell_type": "code",
   "execution_count": 213,
   "metadata": {},
   "outputs": [],
   "source": [
    "from typing import final\n",
    "\n",
    "@final\n",
    "class Base:...\n",
    "\n",
    "class Derived(Base):..."
   ]
  },
  {
   "cell_type": "code",
   "execution_count": 214,
   "metadata": {},
   "outputs": [],
   "source": [
    "from typing import final, Final\n",
    "\n",
    "class Base:\n",
    "    @final\n",
    "    def foo(self) -> None:\n",
    "        ...\n",
    "\n",
    "class Derived(Base):\n",
    "    def foo(self) -> None:  # Error: Cannot override final attribute \"foo\"\n",
    "                            # (previously declared in base class \"Base\")\n",
    "        ..."
   ]
  },
  {
   "cell_type": "code",
   "execution_count": 216,
   "metadata": {},
   "outputs": [],
   "source": [
    "THRESHOLD : Final[int] = 25\n",
    "DEFAULT_VALUE: Final = 3"
   ]
  },
  {
   "cell_type": "code",
   "execution_count": 217,
   "metadata": {},
   "outputs": [],
   "source": [
    "from typing import Final\n",
    "\n",
    "RATE: Final = 3000\n",
    "\n",
    "class Base:\n",
    "    DEFAULT_ID: Final = 0\n",
    "\n",
    "RATE = 300  # Error: can't assign to final attribute\n",
    "Base.DEFAULT_ID = 1  # Error: can't override a final attribute"
   ]
  },
  {
   "cell_type": "code",
   "execution_count": 218,
   "metadata": {},
   "outputs": [],
   "source": [
    "class ImmutablePoint:\n",
    "    x: Final[int]\n",
    "    y: Final[int]  # Error: final attribute without an initializer\n",
    "\n",
    "    def __init__(self) -> None:\n",
    "        self.x = 1  # Good"
   ]
  },
  {
   "cell_type": "markdown",
   "metadata": {},
   "source": [
    "Type checkers should infer a final attribute that is initialized in a class body as being a class variable.\\\n",
    "Variables should not be annotated with both ClassVar and Final."
   ]
  },
  {
   "cell_type": "markdown",
   "metadata": {},
   "source": [
    "#### TypedDict: Type Hints for Dictionaries with a Fixed Set of Keys PEP 589"
   ]
  },
  {
   "cell_type": "code",
   "execution_count": null,
   "metadata": {},
   "outputs": [],
   "source": []
  },
  {
   "cell_type": "markdown",
   "metadata": {},
   "source": []
  },
  {
   "cell_type": "markdown",
   "metadata": {},
   "source": [
    "### Type Hinting Generics in Standard Collections PEP 585"
   ]
  },
  {
   "cell_type": "code",
   "execution_count": null,
   "metadata": {},
   "outputs": [],
   "source": []
  },
  {
   "cell_type": "markdown",
   "metadata": {},
   "source": [
    "#### Allow writing union types as X | Y PEP 604"
   ]
  },
  {
   "cell_type": "markdown",
   "metadata": {},
   "source": []
  },
  {
   "cell_type": "markdown",
   "metadata": {},
   "source": [
    "### Explict Type Alias PEP 613"
   ]
  },
  {
   "cell_type": "markdown",
   "metadata": {},
   "source": [
    "### User-Defined Type Gaurds PEP 647"
   ]
  },
  {
   "cell_type": "markdown",
   "metadata": {},
   "source": []
  },
  {
   "cell_type": "markdown",
   "metadata": {},
   "source": [
    "### Self Type PEP 673"
   ]
  },
  {
   "cell_type": "markdown",
   "metadata": {},
   "source": [
    "### Data Class Transforms PEP 681"
   ]
  },
  {
   "cell_type": "markdown",
   "metadata": {},
   "source": []
  }
 ],
 "metadata": {
  "kernelspec": {
   "display_name": "pycon2023",
   "language": "python",
   "name": "python3"
  },
  "language_info": {
   "codemirror_mode": {
    "name": "ipython",
    "version": 3
   },
   "file_extension": ".py",
   "mimetype": "text/x-python",
   "name": "python",
   "nbconvert_exporter": "python",
   "pygments_lexer": "ipython3",
   "version": "3.11.4"
  },
  "orig_nbformat": 4
 },
 "nbformat": 4,
 "nbformat_minor": 2
}
